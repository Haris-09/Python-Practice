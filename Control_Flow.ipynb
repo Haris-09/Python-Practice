{
  "nbformat": 4,
  "nbformat_minor": 0,
  "metadata": {
    "colab": {
      "provenance": [],
      "collapsed_sections": [],
      "authorship_tag": "ABX9TyM/Apeqau3W7D4Ntms+DBYf",
      "include_colab_link": true
    },
    "kernelspec": {
      "name": "python3",
      "display_name": "Python 3"
    },
    "language_info": {
      "name": "python"
    }
  },
  "cells": [
    {
      "cell_type": "markdown",
      "metadata": {
        "id": "view-in-github",
        "colab_type": "text"
      },
      "source": [
        "<a href=\"https://colab.research.google.com/github/Haris-09/Python-Practice/blob/main/Control_Flow.ipynb\" target=\"_parent\"><img src=\"https://colab.research.google.com/assets/colab-badge.svg\" alt=\"Open In Colab\"/></a>"
      ]
    },
    {
      "cell_type": "markdown",
      "source": [
        "#Conditional Statements"
      ],
      "metadata": {
        "id": "goot_wCl0yp5"
      }
    },
    {
      "cell_type": "markdown",
      "source": [
        "##Practice: Which Prize\n",
        "\n",
        "Write an if statement that lets a competitor know which of these prizes they won based on the number of points they scored, which is stored in the integer variable points.\n",
        "\n",
        "| Points  | Prize |\n",
        "| ------------- | ------------- |\n",
        "| 1 - 50  | wooden rabbit  |\n",
        "| 51 - 150  |no prize  |\n",
        "| 151 - 180  | wafer-thin mint  |\n",
        "| 181 - 200  |penguin  |\t\n",
        "\t\n",
        "All of the lower and upper bounds here are inclusive, and `points` can only take on positive integer values up to 200.\n",
        "\n",
        "In your `if` statement, assign the `result` variable to a string holding the appropriate message based on the value of `points`. If they've won a prize, the message should state `\"Congratulations! You won a [prize name]!\"` with the prize name. If there's no prize, the message should state `\"Oh dear, no prize this time.\"`\n",
        "\n",
        "**Note:** Feel free to test run your code with other inputs, but when you submit your answer, only use the original input of `points = 174`. You can hide your other inputs by commenting them out."
      ],
      "metadata": {
        "id": "OtlNSKEq1Ey3"
      }
    },
    {
      "cell_type": "code",
      "execution_count": 1,
      "metadata": {
        "colab": {
          "base_uri": "https://localhost:8080/"
        },
        "id": "-BjQ7RuI0qfZ",
        "outputId": "6714b4e3-fd7d-43fb-c6d3-19db517520fb"
      },
      "outputs": [
        {
          "output_type": "stream",
          "name": "stdout",
          "text": [
            "Congratulations! You won a wafer-thin mint!\n"
          ]
        }
      ],
      "source": [
        "points = 174  # use this input to make your submission\n",
        "\n",
        "# write your if statement here\n",
        "if points <= 50:\n",
        "    result = \"Congratulations! You won a wooden rabbit!\"\n",
        "elif points <= 150:\n",
        "    result = \"Oh dear, no prize this time.\"\n",
        "elif points <= 180:\n",
        "    result = \"Congratulations! You won a wafer-thin mint!\"\n",
        "else:\n",
        "    result = \"Congratulations! You won a penguin!\"\n",
        "\n",
        "print(result)"
      ]
    },
    {
      "cell_type": "markdown",
      "source": [
        "We use `<=` instead of the `<` operator, since it was stated that the upper bound is inclusive. Notice that in each condition, we check if `points` is in a prize bracket by checking if `points` is less than or equal to the upper bound; we didn't have to check if it was greater than the lower bound. Let's see why this is the case.\n",
        "\n",
        "When `points = 174`, it first checks if `points <= 50`, which evaluates to False. We don't have to check if it is also greater than 0, since it is stated in the problem that `points` will always be a positive integer up to 200.\n",
        "\n",
        "Since the first condition evaluates to False, it moves on to check the next condition, `points <= 150`. **We don't need to check if it is also greater than 50 here!** We already know this is the case because the first condition has to have evaluated to False in order to get to this point. If we know `points <= 50` is False, then `points > 50` must be True!\n",
        "\n",
        "Finally, we check if `points <= 180`, which evaluates to True. We now know that `points` is in the 151 - 180 bracket.\n",
        "\n",
        "The last prize bracket, 181-200, is caught in the `else` clause, since there is no other possible value of the prize after checking the previous conditions."
      ],
      "metadata": {
        "id": "5yel0iq5409t"
      }
    },
    {
      "cell_type": "code",
      "source": [],
      "metadata": {
        "id": "2r-Mn4154g1e"
      },
      "execution_count": null,
      "outputs": []
    }
  ]
}