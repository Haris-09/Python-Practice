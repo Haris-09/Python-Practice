{
  "nbformat": 4,
  "nbformat_minor": 0,
  "metadata": {
    "colab": {
      "name": "Python Primer.ipynb",
      "provenance": [],
      "authorship_tag": "ABX9TyML5q0fIfeIqA2k+OJoNo38",
      "include_colab_link": true
    },
    "kernelspec": {
      "name": "python3",
      "display_name": "Python 3"
    },
    "language_info": {
      "name": "python"
    }
  },
  "cells": [
    {
      "cell_type": "markdown",
      "metadata": {
        "id": "view-in-github",
        "colab_type": "text"
      },
      "source": [
        "<a href=\"https://colab.research.google.com/github/Haris-09/Python-Practice/blob/main/Python_Primer.ipynb\" target=\"_parent\"><img src=\"https://colab.research.google.com/assets/colab-badge.svg\" alt=\"Open In Colab\"/></a>"
      ]
    },
    {
      "cell_type": "markdown",
      "source": [
        "#The order of Operations"
      ],
      "metadata": {
        "id": "h9XVTcenEWrZ"
      }
    },
    {
      "cell_type": "code",
      "source": [
        "5 + 30 * 20"
      ],
      "metadata": {
        "colab": {
          "base_uri": "https://localhost:8080/"
        },
        "id": "JVDN7uPMDzc7",
        "outputId": "314d09f9-4110-4c41-8ba1-b14adce0f880"
      },
      "execution_count": null,
      "outputs": [
        {
          "output_type": "execute_result",
          "data": {
            "text/plain": [
              "605"
            ]
          },
          "metadata": {},
          "execution_count": 3
        }
      ]
    },
    {
      "cell_type": "markdown",
      "source": [
        "For example, in the following equation, the numbers 30 and 20 are multiplied first, and the number 5 is added to their product.\n",
        "\n",
        "Parentheses can change the order of operations."
      ],
      "metadata": {
        "id": "2NCwscqIFC3r"
      }
    },
    {
      "cell_type": "markdown",
      "source": [
        "This equation is another way of saying, “multiply 30 by 20, and then add 5 to the result.” The result is 605. We can change the order of operations by adding parentheses around the first two numbers, like so:"
      ],
      "metadata": {
        "id": "CH4c3iDXFc3J"
      }
    },
    {
      "cell_type": "code",
      "source": [
        "(5 + 30) * 20"
      ],
      "metadata": {
        "colab": {
          "base_uri": "https://localhost:8080/"
        },
        "id": "ihUlqgBDE-BV",
        "outputId": "7f5a39bc-5634-4192-f54e-5159564f8f9c"
      },
      "execution_count": null,
      "outputs": [
        {
          "output_type": "execute_result",
          "data": {
            "text/plain": [
              "700"
            ]
          },
          "metadata": {},
          "execution_count": 4
        }
      ]
    },
    {
      "cell_type": "markdown",
      "source": [
        "The result of this equation is 700 (not 605) because the parentheses tell Python to do the operation in the parentheses first, and then do the operation outside the parentheses."
      ],
      "metadata": {
        "id": "5ygCgYEEFqID"
      }
    },
    {
      "cell_type": "markdown",
      "source": [
        "#Nested Parentheses\n",
        "Inner and outer Parentheses"
      ],
      "metadata": {
        "id": "DqmJlZQCFxq1"
      }
    },
    {
      "cell_type": "code",
      "source": [
        "((5+30)*20)/10"
      ],
      "metadata": {
        "colab": {
          "base_uri": "https://localhost:8080/"
        },
        "id": "ShOp36A2FhcG",
        "outputId": "0d7b3a42-70e3-4834-d9ca-7f8a38d6cc6b"
      },
      "execution_count": null,
      "outputs": [
        {
          "output_type": "execute_result",
          "data": {
            "text/plain": [
              "70.0"
            ]
          },
          "metadata": {},
          "execution_count": 5
        }
      ]
    },
    {
      "cell_type": "markdown",
      "source": [
        "In this case, Python evaluates the innermost parentheses first, then the outer ones, and then the final division operator. In other words, this equation is saying, “add 5 to 30, then multiply the result by 20, and divide that result by 10.” Here’s what happens:\n",
        "• Adding 5 to 30 gives 35.\n",
        "• Multiplying 35 by 20 gives 700.\n",
        "• Dividing 700 by 10 gives the final answer of 70."
      ],
      "metadata": {
        "id": "trqlzDBuGDk6"
      }
    },
    {
      "cell_type": "markdown",
      "source": [
        "#Variables\n",
        "Variable in programming means a place to store information such as numbers, text, list of numbers and text etc.Its like variable is a label for something.To create a variable name Ali, we use an equal sign ="
      ],
      "metadata": {
        "id": "CV7h_2kqGfAC"
      }
    },
    {
      "cell_type": "code",
      "source": [
        "Ali=100"
      ],
      "metadata": {
        "id": "DDqX8I5SF8Tf"
      },
      "execution_count": null,
      "outputs": []
    },
    {
      "cell_type": "markdown",
      "source": [
        "Variable names can be made up of letters, numbers and the underscore character ( _ ), but they cant start with a number. You can use anything from single letters such as (a) to long sentences for variable names. But you cannot use space ( )A short name variable is best "
      ],
      "metadata": {
        "id": "5LxczWrWGrk9"
      }
    },
    {
      "cell_type": "markdown",
      "source": [
        "#Variable exercise"
      ],
      "metadata": {
        "id": "Uaf-knSJGwlc"
      }
    },
    {
      "cell_type": "code",
      "source": [
        "ali_coins=20\n",
        "fahad_coins=10\n",
        "abdullah_coins=10\n",
        "\n",
        "ali_coins+fahad_coins+abdullah_coins"
      ],
      "metadata": {
        "colab": {
          "base_uri": "https://localhost:8080/"
        },
        "id": "9l2UN1T5GnMK",
        "outputId": "2ae6aeb5-5dbb-4cb9-9fc5-ebd558d39e1e"
      },
      "execution_count": null,
      "outputs": [
        {
          "output_type": "execute_result",
          "data": {
            "text/plain": [
              "40"
            ]
          },
          "metadata": {},
          "execution_count": 7
        }
      ]
    },
    {
      "cell_type": "markdown",
      "source": [
        "#Strings in Python"
      ],
      "metadata": {
        "id": "6IJB52oMp8c6"
      }
    },
    {
      "cell_type": "markdown",
      "source": [
        "we create a string by putting quotes around text. one can also use sigle or double quotes"
      ],
      "metadata": {
        "id": "aQJtUchC_Tzj"
      }
    },
    {
      "cell_type": "code",
      "source": [
        "abubakr = 'first caliph!!'\n",
        "print(abubakr)"
      ],
      "metadata": {
        "id": "gMsy71vEG5yc",
        "colab": {
          "base_uri": "https://localhost:8080/"
        },
        "outputId": "4253a808-c736-4dfa-e34e-6f794eacb1f3"
      },
      "execution_count": 3,
      "outputs": [
        {
          "output_type": "stream",
          "name": "stdout",
          "text": [
            "first caliph!!\n"
          ]
        }
      ]
    },
    {
      "cell_type": "code",
      "source": [
        "abubakr = \"first caliph!!\"\n",
        "print(abubakr)"
      ],
      "metadata": {
        "colab": {
          "base_uri": "https://localhost:8080/"
        },
        "id": "caiAr--lB7OS",
        "outputId": "e585dc55-a882-43d3-95c8-496a9aa14564"
      },
      "execution_count": 4,
      "outputs": [
        {
          "output_type": "stream",
          "name": "stdout",
          "text": [
            "first caliph!!\n"
          ]
        }
      ]
    },
    {
      "cell_type": "markdown",
      "source": [
        "#Syntax and Syntax Error"
      ],
      "metadata": {
        "id": "ZAl1cxCuA2dW"
      }
    },
    {
      "cell_type": "markdown",
      "source": [
        "*   Syntax means the arrangement and order of word in a sentence.\n",
        "*   Syntax error means that you did something in an order python was not expecting or you missed something.\n"
      ],
      "metadata": {
        "id": "FF1uEQkAA7RN"
      }
    },
    {
      "cell_type": "code",
      "source": [
        "abubakr = 'first caliph!!\n",
        "print(abubakr)"
      ],
      "metadata": {
        "colab": {
          "base_uri": "https://localhost:8080/",
          "height": 130
        },
        "id": "BnAW31iU-oqu",
        "outputId": "b75fbd84-d694-4283-81b0-8dcb9952cbee"
      },
      "execution_count": 2,
      "outputs": [
        {
          "output_type": "error",
          "ename": "SyntaxError",
          "evalue": "ignored",
          "traceback": [
            "\u001b[0;36m  File \u001b[0;32m\"<ipython-input-2-c7062b08b869>\"\u001b[0;36m, line \u001b[0;32m1\u001b[0m\n\u001b[0;31m    abubakr = 'first caliph!!\u001b[0m\n\u001b[0m                             ^\u001b[0m\n\u001b[0;31mSyntaxError\u001b[0m\u001b[0;31m:\u001b[0m EOL while scanning string literal\n"
          ]
        }
      ]
    },
    {
      "cell_type": "markdown",
      "source": [
        "#Strings Problems handling"
      ],
      "metadata": {
        "id": "ot76l9IjCf1P"
      }
    },
    {
      "cell_type": "markdown",
      "source": [
        "**Adding second line to your command**\n",
        "\n",
        "\n",
        "*   You can use 3 single quotes to write a second or third or as many lines as you want to a given command.\n",
        "\n"
      ],
      "metadata": {
        "id": "ywjUItYACiBP"
      }
    },
    {
      "cell_type": "code",
      "source": [
        "abubakr= '''first\n",
        "Righteous\n",
        "caliph!!'''\n",
        "print(abubakr)"
      ],
      "metadata": {
        "colab": {
          "base_uri": "https://localhost:8080/"
        },
        "id": "P8-BsZE0BxyK",
        "outputId": "450a5cfe-6cd0-4fd1-eb0f-4a48d152a91b"
      },
      "execution_count": 5,
      "outputs": [
        {
          "output_type": "stream",
          "name": "stdout",
          "text": [
            "first\n",
            "Righteous\n",
            "caliph!!\n"
          ]
        }
      ]
    },
    {
      "cell_type": "markdown",
      "source": [
        "to handle a sentence which contains multiple single or double quotes use 3 single quotes to handle this problem."
      ],
      "metadata": {
        "id": "EbBHlwFGD5zB"
      }
    },
    {
      "cell_type": "code",
      "source": [
        "silly_string= '''He said, \"Aren't can't shouldn't wouldn't.\"'''\n",
        "print(silly_string)"
      ],
      "metadata": {
        "id": "R8TDevhqDU7f",
        "outputId": "12f75ad9-445b-44fd-af6f-cf50661e4a45",
        "colab": {
          "base_uri": "https://localhost:8080/"
        }
      },
      "execution_count": 6,
      "outputs": [
        {
          "output_type": "stream",
          "name": "stdout",
          "text": [
            "He said, \"Aren't can't shouldn't wouldn't.\"\n"
          ]
        }
      ]
    },
    {
      "cell_type": "markdown",
      "source": [
        "**Adding a backslash  \\or escaping**\n",
        "\n",
        "\n",
        "* \\or excapingmeans “Yes, I know I have quotes inside my string, and I want you to ignore them until you see the end quote."
      ],
      "metadata": {
        "id": "AIVBRjfqELaF"
      }
    },
    {
      "cell_type": "code",
      "source": [
        "single_quote_str= 'He said, \"Aren\\'t can\\'t shouldn\\'t wouldn\\'t.\"'\n",
        "print (single_quote_str)"
      ],
      "metadata": {
        "id": "ac-qGgbwD3r4",
        "outputId": "403c3777-581c-42a1-891d-1fb45cfe78fb",
        "colab": {
          "base_uri": "https://localhost:8080/"
        }
      },
      "execution_count": 7,
      "outputs": [
        {
          "output_type": "stream",
          "name": "stdout",
          "text": [
            "He said, \"Aren't can't shouldn't wouldn't.\"\n"
          ]
        }
      ]
    },
    {
      "cell_type": "code",
      "source": [
        "double_quote_str= \"He said, \\\"Aren't can't shouldn't wouldn't.\\\"\"\n",
        "print (double_quote_str)"
      ],
      "metadata": {
        "id": "SgPnrnonEvWy",
        "outputId": "546f642a-0fce-4773-daf5-a418e6ba01eb",
        "colab": {
          "base_uri": "https://localhost:8080/"
        }
      },
      "execution_count": 8,
      "outputs": [
        {
          "output_type": "stream",
          "name": "stdout",
          "text": [
            "He said, \"Aren't can't shouldn't wouldn't.\"\n"
          ]
        }
      ]
    },
    {
      "cell_type": "code",
      "source": [
        ""
      ],
      "metadata": {
        "id": "GpFVmhdcFfKW"
      },
      "execution_count": null,
      "outputs": []
    }
  ]
}