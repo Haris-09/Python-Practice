{
  "nbformat": 4,
  "nbformat_minor": 0,
  "metadata": {
    "colab": {
      "name": "Python Primer.ipynb",
      "provenance": [],
      "authorship_tag": "ABX9TyPj/qRpP7oOUAklIntBDj0x",
      "include_colab_link": true
    },
    "kernelspec": {
      "name": "python3",
      "display_name": "Python 3"
    },
    "language_info": {
      "name": "python"
    }
  },
  "cells": [
    {
      "cell_type": "markdown",
      "metadata": {
        "id": "view-in-github",
        "colab_type": "text"
      },
      "source": [
        "<a href=\"https://colab.research.google.com/github/Haris-09/Python-Practice/blob/main/Python_Primer.ipynb\" target=\"_parent\"><img src=\"https://colab.research.google.com/assets/colab-badge.svg\" alt=\"Open In Colab\"/></a>"
      ]
    },
    {
      "cell_type": "markdown",
      "source": [
        "#The order of Operations"
      ],
      "metadata": {
        "id": "h9XVTcenEWrZ"
      }
    },
    {
      "cell_type": "code",
      "source": [
        "5 + 30 * 20"
      ],
      "metadata": {
        "colab": {
          "base_uri": "https://localhost:8080/"
        },
        "id": "JVDN7uPMDzc7",
        "outputId": "3568b47c-5b55-4447-a6e2-4ee4d709e77e"
      },
      "execution_count": 1,
      "outputs": [
        {
          "output_type": "execute_result",
          "data": {
            "text/plain": [
              "605"
            ]
          },
          "metadata": {},
          "execution_count": 1
        }
      ]
    },
    {
      "cell_type": "markdown",
      "source": [
        "For example, in the following equation, the numbers 30 and 20 are multiplied first, and the number 5 is added to their product.\n",
        "\n",
        "Parentheses can change the order of operations."
      ],
      "metadata": {
        "id": "2NCwscqIFC3r"
      }
    },
    {
      "cell_type": "markdown",
      "source": [
        "This equation is another way of saying, “multiply 30 by 20, and then add 5 to the result.” The result is 605. We can change the order of operations by adding parentheses around the first two numbers, like so:"
      ],
      "metadata": {
        "id": "CH4c3iDXFc3J"
      }
    },
    {
      "cell_type": "code",
      "source": [
        "(5 + 30) * 20"
      ],
      "metadata": {
        "colab": {
          "base_uri": "https://localhost:8080/"
        },
        "id": "ihUlqgBDE-BV",
        "outputId": "ea328563-9df1-49f6-ab11-b1bef1fcb7e0"
      },
      "execution_count": 2,
      "outputs": [
        {
          "output_type": "execute_result",
          "data": {
            "text/plain": [
              "700"
            ]
          },
          "metadata": {},
          "execution_count": 2
        }
      ]
    },
    {
      "cell_type": "markdown",
      "source": [
        "The result of this equation is 700 (not 605) because the parentheses tell Python to do the operation in the parentheses first, and then do the operation outside the parentheses."
      ],
      "metadata": {
        "id": "5ygCgYEEFqID"
      }
    },
    {
      "cell_type": "markdown",
      "source": [
        "#Nested Parentheses\n",
        "Inner and outer Parentheses"
      ],
      "metadata": {
        "id": "DqmJlZQCFxq1"
      }
    },
    {
      "cell_type": "code",
      "source": [
        "((5+30)*20)/10"
      ],
      "metadata": {
        "colab": {
          "base_uri": "https://localhost:8080/"
        },
        "id": "ShOp36A2FhcG",
        "outputId": "6531d8e6-09f0-43e7-98b4-7c9021471e14"
      },
      "execution_count": 3,
      "outputs": [
        {
          "output_type": "execute_result",
          "data": {
            "text/plain": [
              "70.0"
            ]
          },
          "metadata": {},
          "execution_count": 3
        }
      ]
    },
    {
      "cell_type": "markdown",
      "source": [
        "In this case, Python evaluates the innermost parentheses first, then the outer ones, and then the final division operator. In other words, this equation is saying, “add 5 to 30, then multiply the result by 20, and divide that result by 10.” Here’s what happens:\n",
        "• Adding 5 to 30 gives 35.\n",
        "• Multiplying 35 by 20 gives 700.\n",
        "• Dividing 700 by 10 gives the final answer of 70."
      ],
      "metadata": {
        "id": "trqlzDBuGDk6"
      }
    },
    {
      "cell_type": "markdown",
      "source": [
        "#Variables\n",
        "Variable in programming means a place to store information such as numbers, text, list of numbers and text etc.Its like variable is a label for something.To create a variable name Ali, we use an equal sign ="
      ],
      "metadata": {
        "id": "CV7h_2kqGfAC"
      }
    },
    {
      "cell_type": "code",
      "source": [
        "Ali=100"
      ],
      "metadata": {
        "id": "DDqX8I5SF8Tf"
      },
      "execution_count": 4,
      "outputs": []
    },
    {
      "cell_type": "markdown",
      "source": [
        "Variable names can be made up of letters, numbers and the underscore character ( _ ), but they cant start with a number. You can use anything from single letters such as (a) to long sentences for variable names. But you cannot use space ( )A short name variable is best "
      ],
      "metadata": {
        "id": "5LxczWrWGrk9"
      }
    },
    {
      "cell_type": "markdown",
      "source": [
        "#Variable exercise"
      ],
      "metadata": {
        "id": "Uaf-knSJGwlc"
      }
    },
    {
      "cell_type": "code",
      "source": [
        "ali_coins=20\n",
        "fahad_coins=10\n",
        "abdullah_coins=10\n",
        "\n",
        "ali_coins+fahad_coins+abdullah_coins"
      ],
      "metadata": {
        "colab": {
          "base_uri": "https://localhost:8080/"
        },
        "id": "9l2UN1T5GnMK",
        "outputId": "4ae803c0-5d83-4780-fb44-cbf6f41c9415"
      },
      "execution_count": 5,
      "outputs": [
        {
          "output_type": "execute_result",
          "data": {
            "text/plain": [
              "40"
            ]
          },
          "metadata": {},
          "execution_count": 5
        }
      ]
    },
    {
      "cell_type": "markdown",
      "source": [
        "#Strings in Python"
      ],
      "metadata": {
        "id": "6IJB52oMp8c6"
      }
    },
    {
      "cell_type": "markdown",
      "source": [
        "we create a string by putting quotes around text. one can also use sigle or double quotes"
      ],
      "metadata": {
        "id": "aQJtUchC_Tzj"
      }
    },
    {
      "cell_type": "code",
      "source": [
        "abubakr = 'first caliph!!'\n",
        "print(abubakr)"
      ],
      "metadata": {
        "id": "gMsy71vEG5yc",
        "colab": {
          "base_uri": "https://localhost:8080/"
        },
        "outputId": "499ac714-7b87-4c3c-81a1-2c26e972c8cc"
      },
      "execution_count": 6,
      "outputs": [
        {
          "output_type": "stream",
          "name": "stdout",
          "text": [
            "first caliph!!\n"
          ]
        }
      ]
    },
    {
      "cell_type": "code",
      "source": [
        "abubakr = \"first caliph!!\"\n",
        "print(abubakr)"
      ],
      "metadata": {
        "colab": {
          "base_uri": "https://localhost:8080/"
        },
        "id": "caiAr--lB7OS",
        "outputId": "b6f14319-bc63-4cf9-afb4-9f741113984b"
      },
      "execution_count": 7,
      "outputs": [
        {
          "output_type": "stream",
          "name": "stdout",
          "text": [
            "first caliph!!\n"
          ]
        }
      ]
    },
    {
      "cell_type": "markdown",
      "source": [
        "#Syntax and Syntax Error"
      ],
      "metadata": {
        "id": "ZAl1cxCuA2dW"
      }
    },
    {
      "cell_type": "markdown",
      "source": [
        "*   Syntax means the arrangement and order of word in a sentence.\n",
        "*   Syntax error means that you did something in an order python was not expecting or you missed something.\n"
      ],
      "metadata": {
        "id": "FF1uEQkAA7RN"
      }
    },
    {
      "cell_type": "code",
      "source": [
        "abubakr = 'first caliph!!\n",
        "print(abubakr)"
      ],
      "metadata": {
        "colab": {
          "base_uri": "https://localhost:8080/",
          "height": 130
        },
        "id": "BnAW31iU-oqu",
        "outputId": "3e05ec13-d49c-4a1f-b8b3-888224a46c14"
      },
      "execution_count": 8,
      "outputs": [
        {
          "output_type": "error",
          "ename": "SyntaxError",
          "evalue": "ignored",
          "traceback": [
            "\u001b[0;36m  File \u001b[0;32m\"<ipython-input-8-c7062b08b869>\"\u001b[0;36m, line \u001b[0;32m1\u001b[0m\n\u001b[0;31m    abubakr = 'first caliph!!\u001b[0m\n\u001b[0m                             ^\u001b[0m\n\u001b[0;31mSyntaxError\u001b[0m\u001b[0;31m:\u001b[0m EOL while scanning string literal\n"
          ]
        }
      ]
    },
    {
      "cell_type": "markdown",
      "source": [
        "#Strings Problems handling"
      ],
      "metadata": {
        "id": "ot76l9IjCf1P"
      }
    },
    {
      "cell_type": "markdown",
      "source": [
        "**Adding second line to your command**\n",
        "\n",
        "\n",
        "*   You can use 3 single quotes to write a second or third or as many lines as you want to a given command.\n",
        "\n"
      ],
      "metadata": {
        "id": "ywjUItYACiBP"
      }
    },
    {
      "cell_type": "code",
      "source": [
        "abubakr= '''first\n",
        "Righteous\n",
        "caliph!!'''\n",
        "print(abubakr)"
      ],
      "metadata": {
        "colab": {
          "base_uri": "https://localhost:8080/"
        },
        "id": "P8-BsZE0BxyK",
        "outputId": "e18b40b8-130c-4f2b-d84f-b6adb0594e32"
      },
      "execution_count": 9,
      "outputs": [
        {
          "output_type": "stream",
          "name": "stdout",
          "text": [
            "first\n",
            "Righteous\n",
            "caliph!!\n"
          ]
        }
      ]
    },
    {
      "cell_type": "markdown",
      "source": [
        "to handle a sentence which contains multiple single or double quotes use 3 single quotes to handle this problem."
      ],
      "metadata": {
        "id": "EbBHlwFGD5zB"
      }
    },
    {
      "cell_type": "code",
      "source": [
        "silly_string= '''He said, \"Aren't can't shouldn't wouldn't.\"'''\n",
        "print(silly_string)"
      ],
      "metadata": {
        "id": "R8TDevhqDU7f",
        "outputId": "f0281f16-056c-4995-bb23-9e16a3499468",
        "colab": {
          "base_uri": "https://localhost:8080/"
        }
      },
      "execution_count": 10,
      "outputs": [
        {
          "output_type": "stream",
          "name": "stdout",
          "text": [
            "He said, \"Aren't can't shouldn't wouldn't.\"\n"
          ]
        }
      ]
    },
    {
      "cell_type": "markdown",
      "source": [
        "**Adding a backslash  \\or escaping**\n",
        "\n",
        "\n",
        "* \\or excapingmeans “Yes, I know I have quotes inside my string, and I want you to ignore them until you see the end quote."
      ],
      "metadata": {
        "id": "AIVBRjfqELaF"
      }
    },
    {
      "cell_type": "code",
      "source": [
        "single_quote_str= 'He said, \"Aren\\'t can\\'t shouldn\\'t wouldn\\'t.\"'\n",
        "print (single_quote_str)"
      ],
      "metadata": {
        "id": "ac-qGgbwD3r4",
        "outputId": "321fd498-c09a-4f60-8278-bede1ae97e6e",
        "colab": {
          "base_uri": "https://localhost:8080/"
        }
      },
      "execution_count": 11,
      "outputs": [
        {
          "output_type": "stream",
          "name": "stdout",
          "text": [
            "He said, \"Aren't can't shouldn't wouldn't.\"\n"
          ]
        }
      ]
    },
    {
      "cell_type": "code",
      "source": [
        "double_quote_str= \"He said, \\\"Aren't can't shouldn't wouldn't.\\\"\"\n",
        "print (double_quote_str)"
      ],
      "metadata": {
        "id": "SgPnrnonEvWy",
        "outputId": "3dc9cbe7-f4a5-4d63-d3e4-58a51f3df691",
        "colab": {
          "base_uri": "https://localhost:8080/"
        }
      },
      "execution_count": 12,
      "outputs": [
        {
          "output_type": "stream",
          "name": "stdout",
          "text": [
            "He said, \"Aren't can't shouldn't wouldn't.\"\n"
          ]
        }
      ]
    },
    {
      "cell_type": "markdown",
      "source": [
        "#Embedding value in strings"
      ],
      "metadata": {
        "id": "o-cFkgW-bqhS"
      }
    },
    {
      "cell_type": "markdown",
      "source": [
        "(Embedding values, also referred to as string substitution, is programmer-speak for “inserting values.”) For example, to have Python calculate or store the number of points you scored in a game, and then add it to a sentence like “I scored points,” use %s in the sentence in place of the value, and then tell Python that value, like this:"
      ],
      "metadata": {
        "id": "ZbEYW-U3cpg9"
      }
    },
    {
      "cell_type": "code",
      "source": [
        "myscore= 1000\n",
        "message = 'I scored %s points'\n",
        "print(message % myscore)"
      ],
      "metadata": {
        "id": "GpFVmhdcFfKW",
        "colab": {
          "base_uri": "https://localhost:8080/"
        },
        "outputId": "03217746-306c-4119-ffc8-c4968c0c8e90"
      },
      "execution_count": 13,
      "outputs": [
        {
          "output_type": "stream",
          "name": "stdout",
          "text": [
            "I scored 1000 points\n"
          ]
        }
      ]
    },
    {
      "cell_type": "code",
      "source": [
        "nums= 'What did the number %s say to the number %s? Nice belt!!'\n",
        "print(nums% (0, 8))"
      ],
      "metadata": {
        "colab": {
          "base_uri": "https://localhost:8080/"
        },
        "id": "yaqzmk5kc9gg",
        "outputId": "c4752471-1cbe-4115-fe4c-c0b7c1e8aa16"
      },
      "execution_count": 14,
      "outputs": [
        {
          "output_type": "stream",
          "name": "stdout",
          "text": [
            "What did the number 0 say to the number 8? Nice belt!!\n"
          ]
        }
      ]
    },
    {
      "cell_type": "markdown",
      "source": [
        "#Multiplying Strings"
      ],
      "metadata": {
        "id": "tvsmHkZ5q-v4"
      }
    },
    {
      "cell_type": "code",
      "source": [
        "print(10 * 'a')"
      ],
      "metadata": {
        "colab": {
          "base_uri": "https://localhost:8080/"
        },
        "id": "CGJt-XdQdnOf",
        "outputId": "f796649f-8611-4239-93bd-7554fbbd2294"
      },
      "execution_count": 15,
      "outputs": [
        {
          "output_type": "stream",
          "name": "stdout",
          "text": [
            "aaaaaaaaaa\n"
          ]
        }
      ]
    },
    {
      "cell_type": "code",
      "source": [
        "spaces = ' ' * 25\n",
        "print('%s 12 DHA Phase 5' % spaces)\n",
        "print('%s Clifton' % spaces)\n",
        "print('%s West Snoring' % spaces)\n",
        "print()\n",
        "print()\n",
        "print('Dear Sir')\n",
        "print()\n",
        "print('I wish to report that tiles are missing from the')\n",
        "print('outside toilet roof.')\n",
        "print('I think it was bad wind the other night that blew them away.')\n",
        "print()\n",
        "print('Regards')\n",
        "print('Sharfoo')"
      ],
      "metadata": {
        "colab": {
          "base_uri": "https://localhost:8080/"
        },
        "id": "299nI_sJrFVk",
        "outputId": "c8035ecd-1e14-48f8-b6ea-cdbe8d18ddd8"
      },
      "execution_count": 16,
      "outputs": [
        {
          "output_type": "stream",
          "name": "stdout",
          "text": [
            "                          12 DHA Phase 5\n",
            "                          Clifton\n",
            "                          West Snoring\n",
            "\n",
            "\n",
            "Dear Sir\n",
            "\n",
            "I wish to report that tiles are missing from the\n",
            "outside toilet roof.\n",
            "I think it was bad wind the other night that blew them away.\n",
            "\n",
            "Regards\n",
            "Sharfoo\n"
          ]
        }
      ]
    },
    {
      "cell_type": "markdown",
      "source": [
        "#Lists vs. string"
      ],
      "metadata": {
        "id": "JeD8K7LYsGCE"
      }
    },
    {
      "cell_type": "markdown",
      "source": [
        "**Creating a list**"
      ],
      "metadata": {
        "id": "tvyyVh4fsnZS"
      }
    },
    {
      "cell_type": "code",
      "source": [
        "sharfoo_list=['sabzee, fruit, aloo, chai']\n",
        "print(sharfoo_list[0])"
      ],
      "metadata": {
        "colab": {
          "base_uri": "https://localhost:8080/"
        },
        "id": "oHoIUFoTrwQR",
        "outputId": "593eb7ba-2f25-4776-f2ce-185c0ff6046d"
      },
      "execution_count": 17,
      "outputs": [
        {
          "output_type": "stream",
          "name": "stdout",
          "text": [
            "sabzee, fruit, aloo, chai\n"
          ]
        }
      ]
    },
    {
      "cell_type": "markdown",
      "source": [
        "Creating a list takes a bit more typing than creating a string, but a list is more useful than a string because it can be manipulated."
      ],
      "metadata": {
        "id": "EwLI-xO2szhm"
      }
    },
    {
      "cell_type": "code",
      "source": [
        "sharfoo_list=['sabzee', 'fruit', 'aloo', 'chai']\n",
        "print(sharfoo_list[2])"
      ],
      "metadata": {
        "colab": {
          "base_uri": "https://localhost:8080/"
        },
        "id": "_rMXi4tisseW",
        "outputId": "003e859a-ca71-438a-a9d2-300f449ade9d"
      },
      "execution_count": 18,
      "outputs": [
        {
          "output_type": "stream",
          "name": "stdout",
          "text": [
            "aloo\n"
          ]
        }
      ]
    },
    {
      "cell_type": "code",
      "source": [
        "print(sharfoo_list[0:3])"
      ],
      "metadata": {
        "colab": {
          "base_uri": "https://localhost:8080/"
        },
        "id": "aX0R5OCrs9yh",
        "outputId": "ac2aa939-2b1e-4434-8b01-d3cb19680fc8"
      },
      "execution_count": 19,
      "outputs": [
        {
          "output_type": "stream",
          "name": "stdout",
          "text": [
            "['sabzee', 'fruit', 'aloo']\n"
          ]
        }
      ]
    },
    {
      "cell_type": "markdown",
      "source": [
        "Writing [0:3] is the same as saying, “show the items from index position 0 up to (but not including) index position 3”—or in other words, items 0, 1, and 2."
      ],
      "metadata": {
        "id": "dU8oQr4HtGru"
      }
    },
    {
      "cell_type": "markdown",
      "source": [
        "Lists can store all sorts of items, like numbers and strings"
      ],
      "metadata": {
        "id": "iBpFqOTHt7zM"
      }
    },
    {
      "cell_type": "code",
      "source": [
        "some_numbers= [1, 2, 5, 10, 20]"
      ],
      "metadata": {
        "id": "M41emHgRtHh8"
      },
      "execution_count": 20,
      "outputs": []
    },
    {
      "cell_type": "code",
      "source": [
        "some_strings= ['Which', 'Witch', 'Is', 'Which']"
      ],
      "metadata": {
        "id": "tBtEkWmUuAbj"
      },
      "execution_count": 21,
      "outputs": []
    },
    {
      "cell_type": "markdown",
      "source": [
        "List strings and number example"
      ],
      "metadata": {
        "id": "Bih1pxuSuPgC"
      }
    },
    {
      "cell_type": "code",
      "source": [
        "numbers_and_strings= ['Why', 'was', 6, 'afraid', 'of', 7, 'because', 7, 8, 9]\n",
        "print(numbers_and_strings)"
      ],
      "metadata": {
        "colab": {
          "base_uri": "https://localhost:8080/"
        },
        "id": "WGjaEv93uD_q",
        "outputId": "be2a078e-0ba4-4950-93b6-7e7605773650"
      },
      "execution_count": 22,
      "outputs": [
        {
          "output_type": "stream",
          "name": "stdout",
          "text": [
            "['Why', 'was', 6, 'afraid', 'of', 7, 'because', 7, 8, 9]\n"
          ]
        }
      ]
    },
    {
      "cell_type": "markdown",
      "source": [
        "List within a list 😀"
      ],
      "metadata": {
        "id": "YJrhCcP9ui0v"
      }
    },
    {
      "cell_type": "code",
      "source": [
        "numbers = [1, 2, 3, 4]\n",
        "strings = ['I', 'kicked', 'my', 'toe', 'and', 'it', 'is', 'sore']\n",
        "mylist= [numbers, strings]\n",
        "print(mylist)"
      ],
      "metadata": {
        "colab": {
          "base_uri": "https://localhost:8080/"
        },
        "id": "Wnv8X9sRubQc",
        "outputId": "acd427f8-ec00-4cca-ed78-61887ae08a17"
      },
      "execution_count": 23,
      "outputs": [
        {
          "output_type": "stream",
          "name": "stdout",
          "text": [
            "[[1, 2, 3, 4], ['I', 'kicked', 'my', 'toe', 'and', 'it', 'is', 'sore']]\n"
          ]
        }
      ]
    },
    {
      "cell_type": "markdown",
      "source": [
        "**Adding items to a LIST**"
      ],
      "metadata": {
        "id": "3ZD4cUouvE5a"
      }
    },
    {
      "cell_type": "code",
      "source": [
        "wizard_list= ['spider legs', 'toe of frog', 'eye of newt', 'bat wing', 'slug butter', 'snake dandruff']\n",
        "wizard_list.append('bear burp')\n",
        "print(wizard_list)"
      ],
      "metadata": {
        "colab": {
          "base_uri": "https://localhost:8080/"
        },
        "id": "h2BdhqXou_Fo",
        "outputId": "e112e5d9-8177-4fdf-ffe3-5c70ffcc546b"
      },
      "execution_count": 24,
      "outputs": [
        {
          "output_type": "stream",
          "name": "stdout",
          "text": [
            "['spider legs', 'toe of frog', 'eye of newt', 'bat wing', 'slug butter', 'snake dandruff', 'bear burp']\n"
          ]
        }
      ]
    },
    {
      "cell_type": "code",
      "source": [
        "wizard_list.append('mandrake')\n",
        "wizard_list.append('hemlock')\n",
        "wizard_list.append('swamp gas')"
      ],
      "metadata": {
        "id": "d4kTsuhyvnH-"
      },
      "execution_count": 25,
      "outputs": []
    },
    {
      "cell_type": "code",
      "source": [
        "print(wizard_list)"
      ],
      "metadata": {
        "colab": {
          "base_uri": "https://localhost:8080/"
        },
        "id": "Iy_gF56bv-X9",
        "outputId": "fb817f76-d042-4716-c54e-7829dd68a2d0"
      },
      "execution_count": 26,
      "outputs": [
        {
          "output_type": "stream",
          "name": "stdout",
          "text": [
            "['spider legs', 'toe of frog', 'eye of newt', 'bat wing', 'slug butter', 'snake dandruff', 'bear burp', 'mandrake', 'hemlock', 'swamp gas']\n"
          ]
        }
      ]
    },
    {
      "cell_type": "markdown",
      "source": [
        "**Removing items from the list**"
      ],
      "metadata": {
        "id": "GAZPHhxVwTE1"
      }
    },
    {
      "cell_type": "code",
      "source": [
        "wizard_list= ['spider legs', 'toe of frog', 'eye of newt', 'bat wing', 'slug butter', 'snake dandruff']\n",
        "wizard_list.append('bear burp')\n",
        "del wizard_list[5]\n",
        "print(wizard_list)"
      ],
      "metadata": {
        "colab": {
          "base_uri": "https://localhost:8080/"
        },
        "id": "uJxQm3UYwCIz",
        "outputId": "f201791a-2493-4a55-9e58-b725f10b29a3"
      },
      "execution_count": 27,
      "outputs": [
        {
          "output_type": "stream",
          "name": "stdout",
          "text": [
            "['spider legs', 'toe of frog', 'eye of newt', 'bat wing', 'slug butter', 'bear burp']\n"
          ]
        }
      ]
    },
    {
      "cell_type": "markdown",
      "source": [
        "**List Arithmetic**\n",
        "\n",
        "We can join two lists by using +"
      ],
      "metadata": {
        "id": "fnXCxXsfw3ot"
      }
    },
    {
      "cell_type": "code",
      "source": [
        "list1 = [1, 2, 3, 4]\n",
        "list2 = ['I', 'ate', 'chocolate', 'and', 'I', 'want', 'more']\n",
        "list3 = list1 + list2\n",
        "print(list3)"
      ],
      "metadata": {
        "colab": {
          "base_uri": "https://localhost:8080/"
        },
        "id": "uzG_k95iwpzU",
        "outputId": "3690ad09-30bd-4d65-ef48-54edd6dba141"
      },
      "execution_count": 28,
      "outputs": [
        {
          "output_type": "stream",
          "name": "stdout",
          "text": [
            "[1, 2, 3, 4, 'I', 'ate', 'chocolate', 'and', 'I', 'want', 'more']\n"
          ]
        }
      ]
    },
    {
      "cell_type": "markdown",
      "source": [
        "And we can multiply a list by a number."
      ],
      "metadata": {
        "id": "hQQABXJFxatw"
      }
    },
    {
      "cell_type": "code",
      "source": [
        "list1 = [1, 2]\n",
        "print(list1 * 5)"
      ],
      "metadata": {
        "colab": {
          "base_uri": "https://localhost:8080/"
        },
        "id": "UOCIt6ZLxIW0",
        "outputId": "863a2468-215b-4739-af4b-685b7c8e1fe8"
      },
      "execution_count": 29,
      "outputs": [
        {
          "output_type": "stream",
          "name": "stdout",
          "text": [
            "[1, 2, 1, 2, 1, 2, 1, 2, 1, 2]\n"
          ]
        }
      ]
    },
    {
      "cell_type": "markdown",
      "source": [
        "On the other hand, division (/) and subtraction (-) give only errors"
      ],
      "metadata": {
        "id": "lYDqVLE1xnFa"
      }
    },
    {
      "cell_type": "code",
      "source": [
        "list1 = [1, 2]\n",
        "list1 / 20\n",
        "print(list1)"
      ],
      "metadata": {
        "colab": {
          "base_uri": "https://localhost:8080/",
          "height": 200
        },
        "id": "Gd1HxoKhxf9D",
        "outputId": "5c2e6287-7f51-4dd9-fd46-f66c6e01537e"
      },
      "execution_count": 30,
      "outputs": [
        {
          "output_type": "error",
          "ename": "TypeError",
          "evalue": "ignored",
          "traceback": [
            "\u001b[0;31m---------------------------------------------------------------------------\u001b[0m",
            "\u001b[0;31mTypeError\u001b[0m                                 Traceback (most recent call last)",
            "\u001b[0;32m<ipython-input-30-06d5ab3556d0>\u001b[0m in \u001b[0;36m<module>\u001b[0;34m()\u001b[0m\n\u001b[1;32m      1\u001b[0m \u001b[0mlist1\u001b[0m \u001b[0;34m=\u001b[0m \u001b[0;34m[\u001b[0m\u001b[0;36m1\u001b[0m\u001b[0;34m,\u001b[0m \u001b[0;36m2\u001b[0m\u001b[0;34m]\u001b[0m\u001b[0;34m\u001b[0m\u001b[0;34m\u001b[0m\u001b[0m\n\u001b[0;32m----> 2\u001b[0;31m \u001b[0mlist1\u001b[0m \u001b[0;34m/\u001b[0m \u001b[0;36m20\u001b[0m\u001b[0;34m\u001b[0m\u001b[0;34m\u001b[0m\u001b[0m\n\u001b[0m\u001b[1;32m      3\u001b[0m \u001b[0mprint\u001b[0m\u001b[0;34m(\u001b[0m\u001b[0mlist1\u001b[0m\u001b[0;34m)\u001b[0m\u001b[0;34m\u001b[0m\u001b[0;34m\u001b[0m\u001b[0m\n",
            "\u001b[0;31mTypeError\u001b[0m: unsupported operand type(s) for /: 'list' and 'int'"
          ]
        }
      ]
    },
    {
      "cell_type": "code",
      "source": [
        "list1 -20"
      ],
      "metadata": {
        "colab": {
          "base_uri": "https://localhost:8080/",
          "height": 165
        },
        "id": "M8QsAG2Fx4qb",
        "outputId": "a4833c23-d76f-415e-c5b6-b1cdbce14bac"
      },
      "execution_count": 31,
      "outputs": [
        {
          "output_type": "error",
          "ename": "TypeError",
          "evalue": "ignored",
          "traceback": [
            "\u001b[0;31m---------------------------------------------------------------------------\u001b[0m",
            "\u001b[0;31mTypeError\u001b[0m                                 Traceback (most recent call last)",
            "\u001b[0;32m<ipython-input-31-7333a4b1c242>\u001b[0m in \u001b[0;36m<module>\u001b[0;34m()\u001b[0m\n\u001b[0;32m----> 1\u001b[0;31m \u001b[0mlist1\u001b[0m \u001b[0;34m-\u001b[0m\u001b[0;36m20\u001b[0m\u001b[0;34m\u001b[0m\u001b[0;34m\u001b[0m\u001b[0m\n\u001b[0m",
            "\u001b[0;31mTypeError\u001b[0m: unsupported operand type(s) for -: 'list' and 'int'"
          ]
        }
      ]
    },
    {
      "cell_type": "markdown",
      "source": [
        "#Tuples"
      ],
      "metadata": {
        "id": "lFWkDgowzAGJ"
      }
    },
    {
      "cell_type": "markdown",
      "source": [
        "A tuple is like a list that uses parentheses, as in this example:"
      ],
      "metadata": {
        "id": "iMNBU-37zGQX"
      }
    },
    {
      "cell_type": "code",
      "source": [
        "fibs = (0, 1, 1, 2, 3)\n",
        "print(fibs[3])"
      ],
      "metadata": {
        "colab": {
          "base_uri": "https://localhost:8080/"
        },
        "id": "pVY-CWrMxxO_",
        "outputId": "0b235eb1-eacd-417e-e726-82a257f36851"
      },
      "execution_count": 32,
      "outputs": [
        {
          "output_type": "stream",
          "name": "stdout",
          "text": [
            "2\n"
          ]
        }
      ]
    },
    {
      "cell_type": "markdown",
      "source": [
        "The main difference between a tuple and a list is that a tuple cannot change once you’ve created it."
      ],
      "metadata": {
        "id": "2viI0R7yzPBx"
      }
    },
    {
      "cell_type": "code",
      "source": [
        "fibs[0] = 4"
      ],
      "metadata": {
        "id": "XpIQVBELzKBq",
        "outputId": "ae53ebf6-b745-41b9-d931-2cadd72016ac",
        "colab": {
          "base_uri": "https://localhost:8080/",
          "height": 165
        }
      },
      "execution_count": 33,
      "outputs": [
        {
          "output_type": "error",
          "ename": "TypeError",
          "evalue": "ignored",
          "traceback": [
            "\u001b[0;31m---------------------------------------------------------------------------\u001b[0m",
            "\u001b[0;31mTypeError\u001b[0m                                 Traceback (most recent call last)",
            "\u001b[0;32m<ipython-input-33-c24a12b6f4c7>\u001b[0m in \u001b[0;36m<module>\u001b[0;34m()\u001b[0m\n\u001b[0;32m----> 1\u001b[0;31m \u001b[0mfibs\u001b[0m\u001b[0;34m[\u001b[0m\u001b[0;36m0\u001b[0m\u001b[0;34m]\u001b[0m \u001b[0;34m=\u001b[0m \u001b[0;36m4\u001b[0m\u001b[0;34m\u001b[0m\u001b[0;34m\u001b[0m\u001b[0m\n\u001b[0m",
            "\u001b[0;31mTypeError\u001b[0m: 'tuple' object does not support item assignment"
          ]
        }
      ]
    },
    {
      "cell_type": "markdown",
      "source": [
        "#Python Maps"
      ],
      "metadata": {
        "id": "wgMkucdJGbcf"
      }
    },
    {
      "cell_type": "markdown",
      "source": [
        "In Python, a map (also referred to as a dict, short for dictionary) is a collection of things, like lists and tuples. The difference between maps and lists or tuples is that each item in a map has a key and a corresponding value. For example, say we have a list of people and their favorite sports. We could put this information into a Python list, with the person’s name followed by their sport, like so:"
      ],
      "metadata": {
        "id": "lK9ieRflIZ_2"
      }
    },
    {
      "cell_type": "markdown",
      "source": [
        "**Creating a map in Python**"
      ],
      "metadata": {
        "id": "TySvQyQqIf0B"
      }
    },
    {
      "cell_type": "code",
      "source": [
        "favorite_sports= {'Ali' : 'Football',\n",
        "                  'Omer' : 'Basketball',\n",
        "                  'Osman' : 'Baseball',\n",
        "                  'Abu Bakr' : 'Netball',\n",
        "                  'Fatima' : 'Badminton',\n",
        "                  'Faizan' : 'Rugby'}\n",
        "print(favorite_sports['Ali'])"
      ],
      "metadata": {
        "id": "ID3LCZw3zX3B",
        "outputId": "d9552d2d-91aa-4fce-c7d4-744d9464464e",
        "colab": {
          "base_uri": "https://localhost:8080/"
        }
      },
      "execution_count": 36,
      "outputs": [
        {
          "output_type": "stream",
          "name": "stdout",
          "text": [
            "Football\n"
          ]
        }
      ]
    },
    {
      "cell_type": "markdown",
      "source": [
        "**Modifying a value in a map**"
      ],
      "metadata": {
        "id": "ykPnepOONT55"
      }
    },
    {
      "cell_type": "code",
      "source": [
        "favorite_sports['Faizan'] = 'Cricket'\n",
        "print(favorite_sports['Faizan'])"
      ],
      "metadata": {
        "id": "iMcdHv_-K3k1",
        "outputId": "7a272ab6-cff6-41d4-d00c-969a5c805da2",
        "colab": {
          "base_uri": "https://localhost:8080/"
        }
      },
      "execution_count": 37,
      "outputs": [
        {
          "output_type": "stream",
          "name": "stdout",
          "text": [
            "Cricket\n"
          ]
        }
      ]
    },
    {
      "cell_type": "markdown",
      "source": [
        "**Deleting a value in the map**"
      ],
      "metadata": {
        "id": "Mt8SkBuZN_7f"
      }
    },
    {
      "cell_type": "code",
      "source": [
        "del favorite_sports['Ali']\n",
        "print(favorite_sports)"
      ],
      "metadata": {
        "id": "aBApklJQK87w",
        "outputId": "4ec192a5-6a10-4b2c-92c3-9b1d3cb3c9b6",
        "colab": {
          "base_uri": "https://localhost:8080/"
        }
      },
      "execution_count": 38,
      "outputs": [
        {
          "output_type": "stream",
          "name": "stdout",
          "text": [
            "{'Omer': 'Basketball', 'Osman': 'Baseball', 'Abu Bakr': 'Netball', 'Fatima': 'Badminton', 'Faizan': 'Cricket'}\n"
          ]
        }
      ]
    },
    {
      "cell_type": "markdown",
      "source": [
        "As you can see, working with maps is kind of like working with lists and tuples, except that you can’t join maps with the plus operator (+). If you try to do that, you’ll get an error message:"
      ],
      "metadata": {
        "id": "S9tNNxfnOgSu"
      }
    },
    {
      "cell_type": "code",
      "source": [
        ""
      ],
      "metadata": {
        "id": "BFZ0M5cfOVhl"
      },
      "execution_count": null,
      "outputs": []
    }
  ]
}