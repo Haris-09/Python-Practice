{
  "nbformat": 4,
  "nbformat_minor": 0,
  "metadata": {
    "colab": {
      "name": "Python Primer.ipynb",
      "provenance": [],
      "authorship_tag": "ABX9TyPtz/4TpB9El1wuHKtbfZT4",
      "include_colab_link": true
    },
    "kernelspec": {
      "name": "python3",
      "display_name": "Python 3"
    },
    "language_info": {
      "name": "python"
    }
  },
  "cells": [
    {
      "cell_type": "markdown",
      "metadata": {
        "id": "view-in-github",
        "colab_type": "text"
      },
      "source": [
        "<a href=\"https://colab.research.google.com/github/Haris-09/Python-Practice/blob/main/Python_Primer.ipynb\" target=\"_parent\"><img src=\"https://colab.research.google.com/assets/colab-badge.svg\" alt=\"Open In Colab\"/></a>"
      ]
    },
    {
      "cell_type": "markdown",
      "source": [
        "#The order of Operations"
      ],
      "metadata": {
        "id": "h9XVTcenEWrZ"
      }
    },
    {
      "cell_type": "code",
      "source": [
        "5 + 30 * 20"
      ],
      "metadata": {
        "colab": {
          "base_uri": "https://localhost:8080/"
        },
        "id": "JVDN7uPMDzc7",
        "outputId": "1372fe64-cc87-4f9e-ce04-72879c5239b9"
      },
      "execution_count": 1,
      "outputs": [
        {
          "output_type": "execute_result",
          "data": {
            "text/plain": [
              "605"
            ]
          },
          "metadata": {},
          "execution_count": 1
        }
      ]
    },
    {
      "cell_type": "markdown",
      "source": [
        "For example, in the following equation, the numbers 30 and 20 are multiplied first, and the number 5 is added to their product.\n",
        "\n",
        "Parentheses can change the order of operations."
      ],
      "metadata": {
        "id": "2NCwscqIFC3r"
      }
    },
    {
      "cell_type": "markdown",
      "source": [
        "This equation is another way of saying, “multiply 30 by 20, and then add 5 to the result.” The result is 605. We can change the order of operations by adding parentheses around the first two numbers, like so:"
      ],
      "metadata": {
        "id": "CH4c3iDXFc3J"
      }
    },
    {
      "cell_type": "code",
      "source": [
        "(5 + 30) * 20"
      ],
      "metadata": {
        "colab": {
          "base_uri": "https://localhost:8080/"
        },
        "id": "ihUlqgBDE-BV",
        "outputId": "eecbd39d-2bb2-4d4b-bb59-a4e5cd64e7dd"
      },
      "execution_count": 2,
      "outputs": [
        {
          "output_type": "execute_result",
          "data": {
            "text/plain": [
              "700"
            ]
          },
          "metadata": {},
          "execution_count": 2
        }
      ]
    },
    {
      "cell_type": "markdown",
      "source": [
        "The result of this equation is 700 (not 605) because the parentheses tell Python to do the operation in the parentheses first, and then do the operation outside the parentheses."
      ],
      "metadata": {
        "id": "5ygCgYEEFqID"
      }
    },
    {
      "cell_type": "markdown",
      "source": [
        "#Nested Parentheses\n",
        "Inner and outer Parentheses"
      ],
      "metadata": {
        "id": "DqmJlZQCFxq1"
      }
    },
    {
      "cell_type": "code",
      "source": [
        "((5+30)*20)/10"
      ],
      "metadata": {
        "colab": {
          "base_uri": "https://localhost:8080/"
        },
        "id": "ShOp36A2FhcG",
        "outputId": "6d4d7ba5-722a-4f46-88ab-c15f4b684585"
      },
      "execution_count": 3,
      "outputs": [
        {
          "output_type": "execute_result",
          "data": {
            "text/plain": [
              "70.0"
            ]
          },
          "metadata": {},
          "execution_count": 3
        }
      ]
    },
    {
      "cell_type": "markdown",
      "source": [
        "In this case, Python evaluates the innermost parentheses first, then the outer ones, and then the final division operator. In other words, this equation is saying, “add 5 to 30, then multiply the result by 20, and divide that result by 10.” Here’s what happens:\n",
        "• Adding 5 to 30 gives 35.\n",
        "• Multiplying 35 by 20 gives 700.\n",
        "• Dividing 700 by 10 gives the final answer of 70."
      ],
      "metadata": {
        "id": "trqlzDBuGDk6"
      }
    },
    {
      "cell_type": "markdown",
      "source": [
        "#Variables\n",
        "Variable in programming means a place to store information such as numbers, text, list of numbers and text etc.Its like variable is a label for something.To create a variable name Ali, we use an equal sign ="
      ],
      "metadata": {
        "id": "CV7h_2kqGfAC"
      }
    },
    {
      "cell_type": "code",
      "source": [
        "Ali=100"
      ],
      "metadata": {
        "id": "DDqX8I5SF8Tf"
      },
      "execution_count": 4,
      "outputs": []
    },
    {
      "cell_type": "markdown",
      "source": [
        "Variable names can be made up of letters, numbers and the underscore character ( _ ), but they cant start with a number. You can use anything from single letters such as (a) to long sentences for variable names. But you cannot use space ( )A short name variable is best "
      ],
      "metadata": {
        "id": "5LxczWrWGrk9"
      }
    },
    {
      "cell_type": "markdown",
      "source": [
        "#Variable exercise"
      ],
      "metadata": {
        "id": "Uaf-knSJGwlc"
      }
    },
    {
      "cell_type": "code",
      "source": [
        "ali_coins=20\n",
        "fahad_coins=10\n",
        "abdullah_coins=10\n",
        "\n",
        "ali_coins+fahad_coins+abdullah_coins"
      ],
      "metadata": {
        "colab": {
          "base_uri": "https://localhost:8080/"
        },
        "id": "9l2UN1T5GnMK",
        "outputId": "c6029406-872d-4e75-aad9-ed04db6fc360"
      },
      "execution_count": 5,
      "outputs": [
        {
          "output_type": "execute_result",
          "data": {
            "text/plain": [
              "40"
            ]
          },
          "metadata": {},
          "execution_count": 5
        }
      ]
    },
    {
      "cell_type": "markdown",
      "source": [
        "#Strings in Python"
      ],
      "metadata": {
        "id": "6IJB52oMp8c6"
      }
    },
    {
      "cell_type": "markdown",
      "source": [
        "we create a string by putting quotes around text. one can also use sigle or double quotes"
      ],
      "metadata": {
        "id": "aQJtUchC_Tzj"
      }
    },
    {
      "cell_type": "code",
      "source": [
        "abubakr = 'first caliph!!'\n",
        "print(abubakr)"
      ],
      "metadata": {
        "id": "gMsy71vEG5yc",
        "colab": {
          "base_uri": "https://localhost:8080/"
        },
        "outputId": "65fec1e5-3770-4f37-d4d7-e895755008bf"
      },
      "execution_count": 6,
      "outputs": [
        {
          "output_type": "stream",
          "name": "stdout",
          "text": [
            "first caliph!!\n"
          ]
        }
      ]
    },
    {
      "cell_type": "code",
      "source": [
        "abubakr = \"first caliph!!\"\n",
        "print(abubakr)"
      ],
      "metadata": {
        "colab": {
          "base_uri": "https://localhost:8080/"
        },
        "id": "caiAr--lB7OS",
        "outputId": "08722937-530b-4653-aec6-74d8e57e5177"
      },
      "execution_count": 7,
      "outputs": [
        {
          "output_type": "stream",
          "name": "stdout",
          "text": [
            "first caliph!!\n"
          ]
        }
      ]
    },
    {
      "cell_type": "markdown",
      "source": [
        "#Syntax and Syntax Error"
      ],
      "metadata": {
        "id": "ZAl1cxCuA2dW"
      }
    },
    {
      "cell_type": "markdown",
      "source": [
        "*   Syntax means the arrangement and order of word in a sentence.\n",
        "*   Syntax error means that you did something in an order python was not expecting or you missed something.\n"
      ],
      "metadata": {
        "id": "FF1uEQkAA7RN"
      }
    },
    {
      "cell_type": "code",
      "source": [
        "abubakr = 'first caliph!!\n",
        "print(abubakr)"
      ],
      "metadata": {
        "colab": {
          "base_uri": "https://localhost:8080/",
          "height": 130
        },
        "id": "BnAW31iU-oqu",
        "outputId": "bf304aea-50cb-4809-9626-a1912aff93ae"
      },
      "execution_count": 8,
      "outputs": [
        {
          "output_type": "error",
          "ename": "SyntaxError",
          "evalue": "ignored",
          "traceback": [
            "\u001b[0;36m  File \u001b[0;32m\"<ipython-input-8-c7062b08b869>\"\u001b[0;36m, line \u001b[0;32m1\u001b[0m\n\u001b[0;31m    abubakr = 'first caliph!!\u001b[0m\n\u001b[0m                             ^\u001b[0m\n\u001b[0;31mSyntaxError\u001b[0m\u001b[0;31m:\u001b[0m EOL while scanning string literal\n"
          ]
        }
      ]
    },
    {
      "cell_type": "markdown",
      "source": [
        "#Strings Problems handling"
      ],
      "metadata": {
        "id": "ot76l9IjCf1P"
      }
    },
    {
      "cell_type": "markdown",
      "source": [
        "**Adding second line to your command**\n",
        "\n",
        "\n",
        "*   You can use 3 single quotes to write a second or third or as many lines as you want to a given command.\n",
        "\n"
      ],
      "metadata": {
        "id": "ywjUItYACiBP"
      }
    },
    {
      "cell_type": "code",
      "source": [
        "abubakr= '''first\n",
        "Righteous\n",
        "caliph!!'''\n",
        "print(abubakr)"
      ],
      "metadata": {
        "colab": {
          "base_uri": "https://localhost:8080/"
        },
        "id": "P8-BsZE0BxyK",
        "outputId": "26ccd8ac-b5cd-43bb-a5ad-b0d9c8c4e030"
      },
      "execution_count": 9,
      "outputs": [
        {
          "output_type": "stream",
          "name": "stdout",
          "text": [
            "first\n",
            "Righteous\n",
            "caliph!!\n"
          ]
        }
      ]
    },
    {
      "cell_type": "markdown",
      "source": [
        "to handle a sentence which contains multiple single or double quotes use 3 single quotes to handle this problem."
      ],
      "metadata": {
        "id": "EbBHlwFGD5zB"
      }
    },
    {
      "cell_type": "code",
      "source": [
        "silly_string= '''He said, \"Aren't can't shouldn't wouldn't.\"'''\n",
        "print(silly_string)"
      ],
      "metadata": {
        "id": "R8TDevhqDU7f",
        "outputId": "78bff744-828f-4c3a-8fb2-d1654da53bc2",
        "colab": {
          "base_uri": "https://localhost:8080/"
        }
      },
      "execution_count": 10,
      "outputs": [
        {
          "output_type": "stream",
          "name": "stdout",
          "text": [
            "He said, \"Aren't can't shouldn't wouldn't.\"\n"
          ]
        }
      ]
    },
    {
      "cell_type": "markdown",
      "source": [
        "**Adding a backslash  \\or escaping**\n",
        "\n",
        "\n",
        "* \\or excapingmeans “Yes, I know I have quotes inside my string, and I want you to ignore them until you see the end quote."
      ],
      "metadata": {
        "id": "AIVBRjfqELaF"
      }
    },
    {
      "cell_type": "code",
      "source": [
        "single_quote_str= 'He said, \"Aren\\'t can\\'t shouldn\\'t wouldn\\'t.\"'\n",
        "print (single_quote_str)"
      ],
      "metadata": {
        "id": "ac-qGgbwD3r4",
        "outputId": "e51a0fcc-6f01-4143-d586-8b59e507fad7",
        "colab": {
          "base_uri": "https://localhost:8080/"
        }
      },
      "execution_count": 11,
      "outputs": [
        {
          "output_type": "stream",
          "name": "stdout",
          "text": [
            "He said, \"Aren't can't shouldn't wouldn't.\"\n"
          ]
        }
      ]
    },
    {
      "cell_type": "code",
      "source": [
        "double_quote_str= \"He said, \\\"Aren't can't shouldn't wouldn't.\\\"\"\n",
        "print (double_quote_str)"
      ],
      "metadata": {
        "id": "SgPnrnonEvWy",
        "outputId": "fb7ee8d2-f175-4443-c255-25f9d3c762f5",
        "colab": {
          "base_uri": "https://localhost:8080/"
        }
      },
      "execution_count": 12,
      "outputs": [
        {
          "output_type": "stream",
          "name": "stdout",
          "text": [
            "He said, \"Aren't can't shouldn't wouldn't.\"\n"
          ]
        }
      ]
    },
    {
      "cell_type": "markdown",
      "source": [
        "#Embedding value in strings"
      ],
      "metadata": {
        "id": "o-cFkgW-bqhS"
      }
    },
    {
      "cell_type": "markdown",
      "source": [
        "(Embedding values, also referred to as string substitution, is programmer-speak for “inserting values.”) For example, to have Python calculate or store the number of points you scored in a game, and then add it to a sentence like “I scored points,” use %s in the sentence in place of the value, and then tell Python that value, like this:"
      ],
      "metadata": {
        "id": "ZbEYW-U3cpg9"
      }
    },
    {
      "cell_type": "code",
      "source": [
        "myscore= 1000\n",
        "message = 'I scored %s points'\n",
        "print(message % myscore)"
      ],
      "metadata": {
        "id": "GpFVmhdcFfKW",
        "colab": {
          "base_uri": "https://localhost:8080/"
        },
        "outputId": "1d04aa69-bd93-4181-8555-b625b6f418ef"
      },
      "execution_count": 13,
      "outputs": [
        {
          "output_type": "stream",
          "name": "stdout",
          "text": [
            "I scored 1000 points\n"
          ]
        }
      ]
    },
    {
      "cell_type": "code",
      "source": [
        "nums= 'What did the number %s say to the number %s? Nice belt!!'\n",
        "print(nums% (0, 8))"
      ],
      "metadata": {
        "colab": {
          "base_uri": "https://localhost:8080/"
        },
        "id": "yaqzmk5kc9gg",
        "outputId": "2888b998-ca10-4ecf-8bc3-cb815d3fa939"
      },
      "execution_count": 14,
      "outputs": [
        {
          "output_type": "stream",
          "name": "stdout",
          "text": [
            "What did the number 0 say to the number 8? Nice belt!!\n"
          ]
        }
      ]
    },
    {
      "cell_type": "markdown",
      "source": [
        "#Multiplying Strings"
      ],
      "metadata": {
        "id": "tvsmHkZ5q-v4"
      }
    },
    {
      "cell_type": "code",
      "source": [
        "print(10 * 'a')"
      ],
      "metadata": {
        "colab": {
          "base_uri": "https://localhost:8080/"
        },
        "id": "CGJt-XdQdnOf",
        "outputId": "30b37cd4-cbbc-40d5-f4fa-1060ebe91aff"
      },
      "execution_count": 15,
      "outputs": [
        {
          "output_type": "stream",
          "name": "stdout",
          "text": [
            "aaaaaaaaaa\n"
          ]
        }
      ]
    },
    {
      "cell_type": "code",
      "source": [
        "spaces = ' ' * 25\n",
        "print('%s 12 DHA Phase 5' % spaces)\n",
        "print('%s Clifton' % spaces)\n",
        "print('%s West Snoring' % spaces)\n",
        "print()\n",
        "print()\n",
        "print('Dear Sir')\n",
        "print()\n",
        "print('I wish to report that tiles are missing from the')\n",
        "print('outside toilet roof.')\n",
        "print('I think it was bad wind the other night that blew them away.')\n",
        "print()\n",
        "print('Regards')\n",
        "print('Sharfoo')"
      ],
      "metadata": {
        "colab": {
          "base_uri": "https://localhost:8080/"
        },
        "id": "299nI_sJrFVk",
        "outputId": "a2dc1034-ba2a-4f7b-8841-fd14c12a050e"
      },
      "execution_count": 16,
      "outputs": [
        {
          "output_type": "stream",
          "name": "stdout",
          "text": [
            "                          12 DHA Phase 5\n",
            "                          Clifton\n",
            "                          West Snoring\n",
            "\n",
            "\n",
            "Dear Sir\n",
            "\n",
            "I wish to report that tiles are missing from the\n",
            "outside toilet roof.\n",
            "I think it was bad wind the other night that blew them away.\n",
            "\n",
            "Regards\n",
            "Sharfoo\n"
          ]
        }
      ]
    },
    {
      "cell_type": "markdown",
      "source": [
        "#Lists vs. string"
      ],
      "metadata": {
        "id": "JeD8K7LYsGCE"
      }
    },
    {
      "cell_type": "markdown",
      "source": [
        "**Creating a list**"
      ],
      "metadata": {
        "id": "tvyyVh4fsnZS"
      }
    },
    {
      "cell_type": "code",
      "source": [
        "sharfoo_list=['sabzee, fruit, aloo, chai']\n",
        "print(sharfoo_list[0])"
      ],
      "metadata": {
        "colab": {
          "base_uri": "https://localhost:8080/"
        },
        "id": "oHoIUFoTrwQR",
        "outputId": "c0214ea5-e8b6-4b22-88f8-adb356db8a42"
      },
      "execution_count": 17,
      "outputs": [
        {
          "output_type": "stream",
          "name": "stdout",
          "text": [
            "sabzee, fruit, aloo, chai\n"
          ]
        }
      ]
    },
    {
      "cell_type": "markdown",
      "source": [
        "Creating a list takes a bit more typing than creating a string, but a list is more useful than a string because it can be manipulated."
      ],
      "metadata": {
        "id": "EwLI-xO2szhm"
      }
    },
    {
      "cell_type": "code",
      "source": [
        "sharfoo_list=['sabzee', 'fruit', 'aloo', 'chai']\n",
        "print(sharfoo_list[2])"
      ],
      "metadata": {
        "colab": {
          "base_uri": "https://localhost:8080/"
        },
        "id": "_rMXi4tisseW",
        "outputId": "01523b86-81b8-4ef5-f8e3-9248e94b2d47"
      },
      "execution_count": 18,
      "outputs": [
        {
          "output_type": "stream",
          "name": "stdout",
          "text": [
            "aloo\n"
          ]
        }
      ]
    },
    {
      "cell_type": "code",
      "source": [
        "print(sharfoo_list[0:3])"
      ],
      "metadata": {
        "colab": {
          "base_uri": "https://localhost:8080/"
        },
        "id": "aX0R5OCrs9yh",
        "outputId": "f9503212-b1ea-40df-ec56-cd8f997c8cc5"
      },
      "execution_count": 19,
      "outputs": [
        {
          "output_type": "stream",
          "name": "stdout",
          "text": [
            "['sabzee', 'fruit', 'aloo']\n"
          ]
        }
      ]
    },
    {
      "cell_type": "markdown",
      "source": [
        "Writing [0:3] is the same as saying, “show the items from index position 0 up to (but not including) index position 3”—or in other words, items 0, 1, and 2."
      ],
      "metadata": {
        "id": "dU8oQr4HtGru"
      }
    },
    {
      "cell_type": "markdown",
      "source": [
        "Lists can store all sorts of items, like numbers and strings"
      ],
      "metadata": {
        "id": "iBpFqOTHt7zM"
      }
    },
    {
      "cell_type": "code",
      "source": [
        "some_numbers= [1, 2, 5, 10, 20]"
      ],
      "metadata": {
        "id": "M41emHgRtHh8"
      },
      "execution_count": 20,
      "outputs": []
    },
    {
      "cell_type": "code",
      "source": [
        "some_strings= ['Which', 'Witch', 'Is', 'Which']"
      ],
      "metadata": {
        "id": "tBtEkWmUuAbj"
      },
      "execution_count": 21,
      "outputs": []
    },
    {
      "cell_type": "markdown",
      "source": [
        "List strings and number example"
      ],
      "metadata": {
        "id": "Bih1pxuSuPgC"
      }
    },
    {
      "cell_type": "code",
      "source": [
        "numbers_and_strings= ['Why', 'was', 6, 'afraid', 'of', 7, 'because', 7, 8, 9]\n",
        "print(numbers_and_strings)"
      ],
      "metadata": {
        "colab": {
          "base_uri": "https://localhost:8080/"
        },
        "id": "WGjaEv93uD_q",
        "outputId": "d3a0ff6d-6d25-4211-efc7-b524fe279d54"
      },
      "execution_count": 22,
      "outputs": [
        {
          "output_type": "stream",
          "name": "stdout",
          "text": [
            "['Why', 'was', 6, 'afraid', 'of', 7, 'because', 7, 8, 9]\n"
          ]
        }
      ]
    },
    {
      "cell_type": "markdown",
      "source": [
        "List within a list 😀"
      ],
      "metadata": {
        "id": "YJrhCcP9ui0v"
      }
    },
    {
      "cell_type": "code",
      "source": [
        "numbers = [1, 2, 3, 4]\n",
        "strings = ['I', 'kicked', 'my', 'toe', 'and', 'it', 'is', 'sore']\n",
        "mylist= [numbers, strings]\n",
        "print(mylist)"
      ],
      "metadata": {
        "colab": {
          "base_uri": "https://localhost:8080/"
        },
        "id": "Wnv8X9sRubQc",
        "outputId": "1ac67ef6-b541-4819-a733-6f9dabf44859"
      },
      "execution_count": 23,
      "outputs": [
        {
          "output_type": "stream",
          "name": "stdout",
          "text": [
            "[[1, 2, 3, 4], ['I', 'kicked', 'my', 'toe', 'and', 'it', 'is', 'sore']]\n"
          ]
        }
      ]
    },
    {
      "cell_type": "markdown",
      "source": [
        "**Adding items to a LIST**"
      ],
      "metadata": {
        "id": "3ZD4cUouvE5a"
      }
    },
    {
      "cell_type": "code",
      "source": [
        "wizard_list= ['spider legs', 'toe of frog', 'eye of newt', 'bat wing', 'slug butter', 'snake dandruff']\n",
        "wizard_list.append('bear burp')\n",
        "print(wizard_list)"
      ],
      "metadata": {
        "colab": {
          "base_uri": "https://localhost:8080/"
        },
        "id": "h2BdhqXou_Fo",
        "outputId": "ac01cf99-134d-41d1-d6d6-f003df4ab0a5"
      },
      "execution_count": 24,
      "outputs": [
        {
          "output_type": "stream",
          "name": "stdout",
          "text": [
            "['spider legs', 'toe of frog', 'eye of newt', 'bat wing', 'slug butter', 'snake dandruff', 'bear burp']\n"
          ]
        }
      ]
    },
    {
      "cell_type": "code",
      "source": [
        "wizard_list.append('mandrake')\n",
        "wizard_list.append('hemlock')\n",
        "wizard_list.append('swamp gas')"
      ],
      "metadata": {
        "id": "d4kTsuhyvnH-"
      },
      "execution_count": 25,
      "outputs": []
    },
    {
      "cell_type": "code",
      "source": [
        "print(wizard_list)"
      ],
      "metadata": {
        "colab": {
          "base_uri": "https://localhost:8080/"
        },
        "id": "Iy_gF56bv-X9",
        "outputId": "6408b4a5-92e8-46fc-9be6-0bdef65f4c5c"
      },
      "execution_count": 26,
      "outputs": [
        {
          "output_type": "stream",
          "name": "stdout",
          "text": [
            "['spider legs', 'toe of frog', 'eye of newt', 'bat wing', 'slug butter', 'snake dandruff', 'bear burp', 'mandrake', 'hemlock', 'swamp gas']\n"
          ]
        }
      ]
    },
    {
      "cell_type": "markdown",
      "source": [
        "**Removing items from the list**"
      ],
      "metadata": {
        "id": "GAZPHhxVwTE1"
      }
    },
    {
      "cell_type": "code",
      "source": [
        "wizard_list= ['spider legs', 'toe of frog', 'eye of newt', 'bat wing', 'slug butter', 'snake dandruff']\n",
        "wizard_list.append('bear burp')\n",
        "del wizard_list[5]\n",
        "print(wizard_list)"
      ],
      "metadata": {
        "colab": {
          "base_uri": "https://localhost:8080/"
        },
        "id": "uJxQm3UYwCIz",
        "outputId": "6196df07-d6ef-440e-b4ec-a1b3a7cb0da0"
      },
      "execution_count": 27,
      "outputs": [
        {
          "output_type": "stream",
          "name": "stdout",
          "text": [
            "['spider legs', 'toe of frog', 'eye of newt', 'bat wing', 'slug butter', 'bear burp']\n"
          ]
        }
      ]
    },
    {
      "cell_type": "markdown",
      "source": [
        "**List Arithmetic**\n",
        "\n",
        "We can join two lists by using +"
      ],
      "metadata": {
        "id": "fnXCxXsfw3ot"
      }
    },
    {
      "cell_type": "code",
      "source": [
        "list1 = [1, 2, 3, 4]\n",
        "list2 = ['I', 'ate', 'chocolate', 'and', 'I', 'want', 'more']\n",
        "list3 = list1 + list2\n",
        "print(list3)"
      ],
      "metadata": {
        "colab": {
          "base_uri": "https://localhost:8080/"
        },
        "id": "uzG_k95iwpzU",
        "outputId": "f76e05d0-ecf7-4807-a415-16decb434e08"
      },
      "execution_count": 28,
      "outputs": [
        {
          "output_type": "stream",
          "name": "stdout",
          "text": [
            "[1, 2, 3, 4, 'I', 'ate', 'chocolate', 'and', 'I', 'want', 'more']\n"
          ]
        }
      ]
    },
    {
      "cell_type": "markdown",
      "source": [
        "And we can multiply a list by a number."
      ],
      "metadata": {
        "id": "hQQABXJFxatw"
      }
    },
    {
      "cell_type": "code",
      "source": [
        "list1 = [1, 2]\n",
        "print(list1 * 5)"
      ],
      "metadata": {
        "colab": {
          "base_uri": "https://localhost:8080/"
        },
        "id": "UOCIt6ZLxIW0",
        "outputId": "8a256f81-05e9-4ad2-b528-5caeb103ea2e"
      },
      "execution_count": 29,
      "outputs": [
        {
          "output_type": "stream",
          "name": "stdout",
          "text": [
            "[1, 2, 1, 2, 1, 2, 1, 2, 1, 2]\n"
          ]
        }
      ]
    },
    {
      "cell_type": "markdown",
      "source": [
        "On the other hand, division (/) and subtraction (-) give only errors"
      ],
      "metadata": {
        "id": "lYDqVLE1xnFa"
      }
    },
    {
      "cell_type": "code",
      "source": [
        "list1 = [1, 2]\n",
        "list1 / 20\n",
        "print(list1)"
      ],
      "metadata": {
        "colab": {
          "base_uri": "https://localhost:8080/",
          "height": 200
        },
        "id": "Gd1HxoKhxf9D",
        "outputId": "dae37917-e58f-4430-8942-c24065bbb137"
      },
      "execution_count": 30,
      "outputs": [
        {
          "output_type": "error",
          "ename": "TypeError",
          "evalue": "ignored",
          "traceback": [
            "\u001b[0;31m---------------------------------------------------------------------------\u001b[0m",
            "\u001b[0;31mTypeError\u001b[0m                                 Traceback (most recent call last)",
            "\u001b[0;32m<ipython-input-30-06d5ab3556d0>\u001b[0m in \u001b[0;36m<module>\u001b[0;34m()\u001b[0m\n\u001b[1;32m      1\u001b[0m \u001b[0mlist1\u001b[0m \u001b[0;34m=\u001b[0m \u001b[0;34m[\u001b[0m\u001b[0;36m1\u001b[0m\u001b[0;34m,\u001b[0m \u001b[0;36m2\u001b[0m\u001b[0;34m]\u001b[0m\u001b[0;34m\u001b[0m\u001b[0;34m\u001b[0m\u001b[0m\n\u001b[0;32m----> 2\u001b[0;31m \u001b[0mlist1\u001b[0m \u001b[0;34m/\u001b[0m \u001b[0;36m20\u001b[0m\u001b[0;34m\u001b[0m\u001b[0;34m\u001b[0m\u001b[0m\n\u001b[0m\u001b[1;32m      3\u001b[0m \u001b[0mprint\u001b[0m\u001b[0;34m(\u001b[0m\u001b[0mlist1\u001b[0m\u001b[0;34m)\u001b[0m\u001b[0;34m\u001b[0m\u001b[0;34m\u001b[0m\u001b[0m\n",
            "\u001b[0;31mTypeError\u001b[0m: unsupported operand type(s) for /: 'list' and 'int'"
          ]
        }
      ]
    },
    {
      "cell_type": "code",
      "source": [
        "list1 -20"
      ],
      "metadata": {
        "id": "M8QsAG2Fx4qb"
      },
      "execution_count": null,
      "outputs": []
    },
    {
      "cell_type": "markdown",
      "source": [
        "#Tuples"
      ],
      "metadata": {
        "id": "lFWkDgowzAGJ"
      }
    },
    {
      "cell_type": "markdown",
      "source": [
        "A tuple is like a list that uses parentheses, as in this example:"
      ],
      "metadata": {
        "id": "iMNBU-37zGQX"
      }
    },
    {
      "cell_type": "code",
      "source": [
        "fibs = (0, 1, 1, 2, 3)\n",
        "print(fibs[3])"
      ],
      "metadata": {
        "id": "pVY-CWrMxxO_"
      },
      "execution_count": null,
      "outputs": []
    },
    {
      "cell_type": "markdown",
      "source": [
        "The main difference between a tuple and a list is that a tuple cannot change once you’ve created it."
      ],
      "metadata": {
        "id": "2viI0R7yzPBx"
      }
    },
    {
      "cell_type": "code",
      "source": [
        "fibs[0] = 4"
      ],
      "metadata": {
        "id": "XpIQVBELzKBq"
      },
      "execution_count": null,
      "outputs": []
    },
    {
      "cell_type": "markdown",
      "source": [
        "#Python Maps"
      ],
      "metadata": {
        "id": "wgMkucdJGbcf"
      }
    },
    {
      "cell_type": "markdown",
      "source": [
        "In Python, a map (also referred to as a dict, short for dictionary) is a collection of things, like lists and tuples. The difference between maps and lists or tuples is that each item in a map has a key and a corresponding value. For example, say we have a list of people and their favorite sports. We could put this information into a Python list, with the person’s name followed by their sport, like so:"
      ],
      "metadata": {
        "id": "lK9ieRflIZ_2"
      }
    },
    {
      "cell_type": "markdown",
      "source": [
        "**Creating a map in Python**"
      ],
      "metadata": {
        "id": "TySvQyQqIf0B"
      }
    },
    {
      "cell_type": "code",
      "source": [
        "favorite_sports= {'Ali' : 'Football',\n",
        "                  'Omer' : 'Basketball',\n",
        "                  'Osman' : 'Baseball',\n",
        "                  'Abu Bakr' : 'Netball',\n",
        "                  'Fatima' : 'Badminton',\n",
        "                  'Faizan' : 'Rugby'}\n",
        "print(favorite_sports['Ali'])"
      ],
      "metadata": {
        "id": "ID3LCZw3zX3B",
        "colab": {
          "base_uri": "https://localhost:8080/"
        },
        "outputId": "be223810-b43b-4804-939d-cfbdac7fe8e6"
      },
      "execution_count": 31,
      "outputs": [
        {
          "output_type": "stream",
          "name": "stdout",
          "text": [
            "Football\n"
          ]
        }
      ]
    },
    {
      "cell_type": "markdown",
      "source": [
        "**Modifying a value in a map**"
      ],
      "metadata": {
        "id": "ykPnepOONT55"
      }
    },
    {
      "cell_type": "code",
      "source": [
        "favorite_sports['Faizan'] = 'Cricket'\n",
        "print(favorite_sports['Faizan'])"
      ],
      "metadata": {
        "colab": {
          "base_uri": "https://localhost:8080/"
        },
        "id": "iMcdHv_-K3k1",
        "outputId": "ac778767-0b7b-4538-93e9-20db29694a14"
      },
      "execution_count": 32,
      "outputs": [
        {
          "output_type": "stream",
          "name": "stdout",
          "text": [
            "Cricket\n"
          ]
        }
      ]
    },
    {
      "cell_type": "markdown",
      "source": [
        "**Deleting a value in the map**"
      ],
      "metadata": {
        "id": "Mt8SkBuZN_7f"
      }
    },
    {
      "cell_type": "code",
      "source": [
        "del favorite_sports['Ali']\n",
        "print(favorite_sports)"
      ],
      "metadata": {
        "colab": {
          "base_uri": "https://localhost:8080/"
        },
        "id": "aBApklJQK87w",
        "outputId": "ad5f636a-7d73-4757-f9d5-77d3e4a44ae1"
      },
      "execution_count": 33,
      "outputs": [
        {
          "output_type": "stream",
          "name": "stdout",
          "text": [
            "{'Omer': 'Basketball', 'Osman': 'Baseball', 'Abu Bakr': 'Netball', 'Fatima': 'Badminton', 'Faizan': 'Cricket'}\n"
          ]
        }
      ]
    },
    {
      "cell_type": "markdown",
      "source": [
        "As you can see, working with maps is kind of like working with lists and tuples, except that you can’t join maps with the plus operator (+). If you try to do that, you’ll get an error message:"
      ],
      "metadata": {
        "id": "S9tNNxfnOgSu"
      }
    },
    {
      "cell_type": "markdown",
      "source": [
        "#Conditions if and else"
      ],
      "metadata": {
        "id": "1vdIgxquTX9M"
      }
    },
    {
      "cell_type": "code",
      "source": [
        "age = 13\n",
        "if age > 20:\n",
        "  print('You are too old!')\n",
        "else:\n",
        "  print('you are under 20')"
      ],
      "metadata": {
        "colab": {
          "base_uri": "https://localhost:8080/"
        },
        "id": "BFZ0M5cfOVhl",
        "outputId": "441845d1-f25a-49c6-a76d-d9f56aa1ced3"
      },
      "execution_count": 34,
      "outputs": [
        {
          "output_type": "stream",
          "name": "stdout",
          "text": [
            "you are under 20\n"
          ]
        }
      ]
    },
    {
      "cell_type": "markdown",
      "source": [
        "**IF AND ELIF (else-if) STATEMENTS**"
      ],
      "metadata": {
        "id": "eLscpH5o9tY7"
      }
    },
    {
      "cell_type": "code",
      "source": [
        "age = 12\n",
        "if age == 10:\n",
        "  print(\"What do you call an unhappy cranberry?\")\n",
        "  print(\"A blueberry!\")\n",
        "elif age == 11:\n",
        "  print(\"What did the green grape say to the blue grape?\")\n",
        "  print(\"Breathe! Breathe!\")\n",
        "elif age == 12:\n",
        "  print(\"What did 0 say to 8?\")\n",
        "  print(\"Hi guys!\")\n",
        "elif age == 13:\n",
        "  print(\"Why wasn't 10 afraid of 7?\")\n",
        "  print(\"Because rather than eating 9, 7 8 pi.\")\n",
        "else:\n",
        "  print(\"Huh?\")"
      ],
      "metadata": {
        "id": "kAf-KcHCUpOf",
        "colab": {
          "base_uri": "https://localhost:8080/"
        },
        "outputId": "18d9b6c9-0fb1-408e-f2cf-2320a4448785"
      },
      "execution_count": 35,
      "outputs": [
        {
          "output_type": "stream",
          "name": "stdout",
          "text": [
            "What did 0 say to 8?\n",
            "Hi guys!\n"
          ]
        }
      ]
    },
    {
      "cell_type": "markdown",
      "source": [
        "You can combine conditions by using the keywords and andor, which produces shorter and simpler code. Here’s an example of using or:"
      ],
      "metadata": {
        "id": "ZiWnS5W5-ZDO"
      }
    },
    {
      "cell_type": "code",
      "source": [
        "age=10\n",
        "if age == 10 or age == 11 or age == 12 or age == 13:\n",
        "  print('What is 13 + 49 + 84 + 155 + 97? A headache!')\n",
        "else:\n",
        "  print('Huh?')"
      ],
      "metadata": {
        "colab": {
          "base_uri": "https://localhost:8080/"
        },
        "id": "AOT9H-Lz-Rca",
        "outputId": "8853c6bd-9b16-4a37-8e5d-985f21c04ac3"
      },
      "execution_count": 36,
      "outputs": [
        {
          "output_type": "stream",
          "name": "stdout",
          "text": [
            "What is 13 + 49 + 84 + 155 + 97? A headache!\n"
          ]
        }
      ]
    },
    {
      "cell_type": "markdown",
      "source": [
        "Using greater than or equal-to operator (>=) and less-than-equal-to operator(<=)"
      ],
      "metadata": {
        "id": "b9Ghxpr0-nwV"
      }
    },
    {
      "cell_type": "code",
      "source": [
        "age=10\n",
        "\n",
        "if age >= 10 and age <= 13:\n",
        "  print('What is 13 + 49 + 84 + 155 + 97? A headache!')\n",
        "else:\n",
        "  print('Huh?')"
      ],
      "metadata": {
        "colab": {
          "base_uri": "https://localhost:8080/"
        },
        "id": "EECFTGDk-m9k",
        "outputId": "27fd1686-4e2b-44be-bde2-437cd66f037e"
      },
      "execution_count": 37,
      "outputs": [
        {
          "output_type": "stream",
          "name": "stdout",
          "text": [
            "What is 13 + 49 + 84 + 155 + 97? A headache!\n"
          ]
        }
      ]
    },
    {
      "cell_type": "markdown",
      "source": [
        "#Variables with no Value-None\n",
        "\n",
        "Just as we can assign numbers, strings, and lists to a variable, we can also assign nothing, or an empty value, to a variable. In Python, an empty value is referred to as None, and it is the absence of value.\n",
        "\n",
        "And it’s important to note that the value None is different from the value 0 because it is the absence of a value, rather than a number with a value of 0. The only value that a variable has when we give it the empty value None is nothing. Here’s an example:© 2018 Al-Nafi. All Rights Reserved.12\n"
      ],
      "metadata": {
        "id": "yNVQhulh--Ea"
      }
    },
    {
      "cell_type": "code",
      "source": [
        "myval= None\n",
        "\n",
        "if myval== None:\n",
        "  print(\"The variable myvaldoesn't have a value\")"
      ],
      "metadata": {
        "colab": {
          "base_uri": "https://localhost:8080/"
        },
        "id": "LxfyhERR-0cC",
        "outputId": "c0d2bab7-cfec-41b8-d11b-718f2248401d"
      },
      "execution_count": 38,
      "outputs": [
        {
          "output_type": "stream",
          "name": "stdout",
          "text": [
            "The variable myvaldoesn't have a value\n"
          ]
        }
      ]
    },
    {
      "cell_type": "markdown",
      "source": [
        "#Conversion in to different data types"
      ],
      "metadata": {
        "id": "c9RZ4dysusg3"
      }
    },
    {
      "cell_type": "markdown",
      "source": [
        "String into a number using int"
      ],
      "metadata": {
        "id": "N0dqCBEfu2XX"
      }
    },
    {
      "cell_type": "code",
      "source": [
        "age = '10'\n",
        "converted_age= int(age)"
      ],
      "metadata": {
        "id": "xLGpvA0V_Qhl"
      },
      "execution_count": 39,
      "outputs": []
    },
    {
      "cell_type": "markdown",
      "source": [
        "Number into a string using str"
      ],
      "metadata": {
        "id": "_b4thP4Mu9nQ"
      }
    },
    {
      "cell_type": "code",
      "source": [
        "age = 10\n",
        "converted_age= str(age)"
      ],
      "metadata": {
        "id": "arzB5glou8Tk"
      },
      "execution_count": 40,
      "outputs": []
    },
    {
      "cell_type": "markdown",
      "source": [
        "What if we use a number with a decimal ?\n",
        "\n",
        "For decimal numbers use float"
      ],
      "metadata": {
        "id": "n9uxYM0yvGA7"
      }
    },
    {
      "cell_type": "code",
      "source": [
        "age = '10.5'\n",
        "converted_age= float(age)"
      ],
      "metadata": {
        "id": "1OTBxZSLvFCS"
      },
      "execution_count": 41,
      "outputs": []
    },
    {
      "cell_type": "markdown",
      "source": [
        "# Python Loops"
      ],
      "metadata": {
        "id": "jjt5feW3yfJI"
      }
    },
    {
      "cell_type": "markdown",
      "source": [
        "Use **for** and **while** for creating loops"
      ],
      "metadata": {
        "id": "ZRkKPZ5vyuEP"
      }
    },
    {
      "cell_type": "markdown",
      "source": [
        "The **Range** function can be used to create a list of numbersranging from a starting number up to the number just before the ending number.\n",
        "That may sound a little confusing. Let’s combine the range function with the list function to see exactly how this works."
      ],
      "metadata": {
        "id": "AnQDHz4Dy2_a"
      }
    },
    {
      "cell_type": "code",
      "source": [
        "for x in range(0, 5):\n",
        "  print('salam')"
      ],
      "metadata": {
        "id": "rrZO819DvcTu",
        "outputId": "65a0a853-f633-480c-8d46-5a9fde5447ca",
        "colab": {
          "base_uri": "https://localhost:8080/"
        }
      },
      "execution_count": 42,
      "outputs": [
        {
          "output_type": "stream",
          "name": "stdout",
          "text": [
            "salam\n",
            "salam\n",
            "salam\n",
            "salam\n",
            "salam\n"
          ]
        }
      ]
    },
    {
      "cell_type": "code",
      "source": [
        "for x in range(0, 5):\n",
        "  print('salam%s' %x)"
      ],
      "metadata": {
        "id": "6WT3o4ewzDNE",
        "outputId": "63d3ab63-fc74-4b86-ebac-00a9c80046b7",
        "colab": {
          "base_uri": "https://localhost:8080/"
        }
      },
      "execution_count": 43,
      "outputs": [
        {
          "output_type": "stream",
          "name": "stdout",
          "text": [
            "salam0\n",
            "salam1\n",
            "salam2\n",
            "salam3\n",
            "salam4\n"
          ]
        }
      ]
    },
    {
      "cell_type": "markdown",
      "source": [
        "Not using **range** and **list**"
      ],
      "metadata": {
        "id": "HIERckrzzTno"
      }
    },
    {
      "cell_type": "code",
      "source": [
        "wizard_list= ['spider legs','toeof frog', 'snail tongue','bat wing', 'slug butter', 'bear burp']\n",
        "for i in wizard_list:\n",
        "  print(i)"
      ],
      "metadata": {
        "id": "iApwnsnrzP_E",
        "outputId": "02dcb091-056c-4603-a128-030c7df5a08e",
        "colab": {
          "base_uri": "https://localhost:8080/"
        }
      },
      "execution_count": 44,
      "outputs": [
        {
          "output_type": "stream",
          "name": "stdout",
          "text": [
            "spider legs\n",
            "toeof frog\n",
            "snail tongue\n",
            "bat wing\n",
            "slug butter\n",
            "bear burp\n"
          ]
        }
      ]
    },
    {
      "cell_type": "markdown",
      "source": [
        "Another kind of loop **while**\n",
        "\n",
        "A **for** loop isn’t the only kind of loop you can make in Python. There’s also the **while** loop.\n",
        "\n",
        "A **for** loop is a loop of a specific length, whereas a **while** loop is a loop that is used when you don’t know ahead of time when it needs to stop looping."
      ],
      "metadata": {
        "id": "wEhiuaOGzwu4"
      }
    },
    {
      "cell_type": "code",
      "source": [
        "x = 45\n",
        "y = 80\n",
        "while x < 50 and y < 100:\n",
        "  x = x + 1\n",
        "  y = y + 1\n",
        "  print(x, y)"
      ],
      "metadata": {
        "id": "Iv-3uqKfzgT3",
        "outputId": "4994361b-a8ef-4b66-cd01-132f774977fe",
        "colab": {
          "base_uri": "https://localhost:8080/"
        }
      },
      "execution_count": 45,
      "outputs": [
        {
          "output_type": "stream",
          "name": "stdout",
          "text": [
            "46 81\n",
            "47 82\n",
            "48 83\n",
            "49 84\n",
            "50 85\n"
          ]
        }
      ]
    },
    {
      "cell_type": "markdown",
      "source": [
        "#Functions"
      ],
      "metadata": {
        "id": "82CJVnGLycR3"
      }
    },
    {
      "cell_type": "markdown",
      "source": [
        "**Why functions?**\n",
        "\n",
        "When you’re writing simple programs, functions are handy. Once you start writing long, more complicated programs, like machine learning, deep learning, AI,  and games functions are essential (assuming you want to finish writing your program this century)."
      ],
      "metadata": {
        "id": "58D41qnsylw6"
      }
    },
    {
      "cell_type": "code",
      "source": [
        "def testfunc(myname):\n",
        "  print('hello %s' % myname)\n",
        "\n",
        "testfunc('mary')"
      ],
      "metadata": {
        "id": "KxM3TGhV0SCT",
        "outputId": "25484859-c735-4e3e-c48b-20d87599e565",
        "colab": {
          "base_uri": "https://localhost:8080/"
        }
      },
      "execution_count": 46,
      "outputs": [
        {
          "output_type": "stream",
          "name": "stdout",
          "text": [
            "hello mary\n"
          ]
        }
      ]
    },
    {
      "cell_type": "code",
      "source": [
        "def testfunc(fname, lname):\n",
        "  print('Hello %s %s' % (fname, lname))\n",
        "\n",
        "testfunc('Mohammad', 'Ali')"
      ],
      "metadata": {
        "id": "dtlIg13Xy4b3",
        "outputId": "1809779b-d622-4bdf-917b-7f3591110f64",
        "colab": {
          "base_uri": "https://localhost:8080/"
        }
      },
      "execution_count": 47,
      "outputs": [
        {
          "output_type": "stream",
          "name": "stdout",
          "text": [
            "Hello Mohammad Ali\n"
          ]
        }
      ]
    },
    {
      "cell_type": "markdown",
      "source": [
        "Using **return**"
      ],
      "metadata": {
        "id": "HHPHDOi10hGh"
      }
    },
    {
      "cell_type": "code",
      "source": [
        "def variable_test():\n",
        "  first_variable= 10\n",
        "  second_variable= 20\n",
        "  return first_variable* second_variable\n",
        "\n",
        "print(variable_test())"
      ],
      "metadata": {
        "id": "c4YZnWg-zgZK",
        "outputId": "4fafa954-9265-48c9-f1c8-9f55ba2e3a7c",
        "colab": {
          "base_uri": "https://localhost:8080/"
        }
      },
      "execution_count": 48,
      "outputs": [
        {
          "output_type": "stream",
          "name": "stdout",
          "text": [
            "200\n"
          ]
        }
      ]
    },
    {
      "cell_type": "markdown",
      "source": [
        "**Variable** Outside the functions"
      ],
      "metadata": {
        "id": "gTGelZIq1HEH"
      }
    },
    {
      "cell_type": "code",
      "source": [
        "another_variable= 100\n",
        "def variable_test2():\n",
        "  first_variable= 10\n",
        "  second_variable= 20\n",
        "  return first_variable* second_variable* another_variable\n",
        "  \n",
        "print(variable_test2())"
      ],
      "metadata": {
        "id": "n-t1XRhz0sj8",
        "outputId": "8b24a326-2038-4a25-b855-2fa76e303ebd",
        "colab": {
          "base_uri": "https://localhost:8080/"
        }
      },
      "execution_count": 49,
      "outputs": [
        {
          "output_type": "stream",
          "name": "stdout",
          "text": [
            "20000\n"
          ]
        }
      ]
    },
    {
      "cell_type": "markdown",
      "source": [
        "#Python Modules"
      ],
      "metadata": {
        "id": "95K-AZ3F2O1L"
      }
    },
    {
      "cell_type": "markdown",
      "source": [
        "Python-Modules. ... A module is a Python object with arbitrarily named attributes that you can bind and reference. Simply, a module is a file consisting of Python code. A module can define functions, classes and variables. A module can also include runnable code.\n",
        "\n",
        "Modules are used to group functions, variables, and other things together into larger, more powerful programs. Some modules are built into Python, and you can download other modules separately."
      ],
      "metadata": {
        "id": "RdSDanLe2Q1h"
      }
    },
    {
      "cell_type": "code",
      "source": [
        "import time\n",
        "print(time.asctime())\n"
      ],
      "metadata": {
        "id": "aRC-rM231VKN",
        "outputId": "4b6be72b-d3aa-46f2-eb90-ed4b756c3339",
        "colab": {
          "base_uri": "https://localhost:8080/"
        }
      },
      "execution_count": 50,
      "outputs": [
        {
          "output_type": "stream",
          "name": "stdout",
          "text": [
            "Wed Jul 13 05:42:24 2022\n"
          ]
        }
      ]
    },
    {
      "cell_type": "markdown",
      "source": [
        "#Python Classes and Objects"
      ],
      "metadata": {
        "id": "Nn6dhQQjSGy4"
      }
    },
    {
      "cell_type": "markdown",
      "source": [
        "Creating a class"
      ],
      "metadata": {
        "id": "iUfPxtqaMtfr"
      }
    },
    {
      "cell_type": "code",
      "source": [
        "class Things:\n",
        "  pass\n",
        "class Inanimate(Things):\n",
        "  pass\n",
        "class Animate(Things):\n",
        "  pass\n",
        "class Sidewalks(Inanimate):\n",
        "  pass\n",
        "class Animals(Animate):\n",
        "  pass\n",
        "class Mammals(Animals):\n",
        "  pass\n",
        "class Giraffes(Mammals):\n",
        "  pass"
      ],
      "metadata": {
        "id": "m_bS-ZZv3AEg"
      },
      "execution_count": 51,
      "outputs": []
    },
    {
      "cell_type": "markdown",
      "source": [
        "Adding objects to classes"
      ],
      "metadata": {
        "id": "PV6b0GM8RU_m"
      }
    },
    {
      "cell_type": "code",
      "source": [
        "Qamoo= Giraffes()"
      ],
      "metadata": {
        "id": "QCUQPp5VRXp6"
      },
      "execution_count": 52,
      "outputs": []
    },
    {
      "cell_type": "markdown",
      "source": [
        "Adding class characteristics as functions"
      ],
      "metadata": {
        "id": "ZQCekNynRpWy"
      }
    },
    {
      "cell_type": "code",
      "source": [
        "class Animals(Animate):\n",
        "  def breathe(self):\n",
        "    pass\n",
        "  def move(self):\n",
        "    pass\n",
        "  def eat_food(self):\n",
        "    pass"
      ],
      "metadata": {
        "id": "F1f2aWb2Risz"
      },
      "execution_count": 53,
      "outputs": []
    },
    {
      "cell_type": "code",
      "source": [
        ""
      ],
      "metadata": {
        "id": "WMzjz2bESLT4"
      },
      "execution_count": null,
      "outputs": []
    }
  ]
}