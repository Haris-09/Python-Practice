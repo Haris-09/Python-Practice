{
  "nbformat": 4,
  "nbformat_minor": 0,
  "metadata": {
    "colab": {
      "name": "Python Primer.ipynb",
      "provenance": [],
      "authorship_tag": "ABX9TyPhsDZWM7eMpvNb/9Bvi3Mx",
      "include_colab_link": true
    },
    "kernelspec": {
      "name": "python3",
      "display_name": "Python 3"
    },
    "language_info": {
      "name": "python"
    }
  },
  "cells": [
    {
      "cell_type": "markdown",
      "metadata": {
        "id": "view-in-github",
        "colab_type": "text"
      },
      "source": [
        "<a href=\"https://colab.research.google.com/github/Haris-09/Python-Practice/blob/main/Python_Primer.ipynb\" target=\"_parent\"><img src=\"https://colab.research.google.com/assets/colab-badge.svg\" alt=\"Open In Colab\"/></a>"
      ]
    },
    {
      "cell_type": "markdown",
      "source": [
        "#The order of Operations"
      ],
      "metadata": {
        "id": "h9XVTcenEWrZ"
      }
    },
    {
      "cell_type": "code",
      "source": [
        "5 + 30 * 20"
      ],
      "metadata": {
        "colab": {
          "base_uri": "https://localhost:8080/"
        },
        "id": "JVDN7uPMDzc7",
        "outputId": "d95c121e-1240-4fa2-83eb-bb2b72af90ca"
      },
      "execution_count": 1,
      "outputs": [
        {
          "output_type": "execute_result",
          "data": {
            "text/plain": [
              "605"
            ]
          },
          "metadata": {},
          "execution_count": 1
        }
      ]
    },
    {
      "cell_type": "markdown",
      "source": [
        "For example, in the following equation, the numbers 30 and 20 are multiplied first, and the number 5 is added to their product.\n",
        "\n",
        "Parentheses can change the order of operations."
      ],
      "metadata": {
        "id": "2NCwscqIFC3r"
      }
    },
    {
      "cell_type": "markdown",
      "source": [
        "This equation is another way of saying, “multiply 30 by 20, and then add 5 to the result.” The result is 605. We can change the order of operations by adding parentheses around the first two numbers, like so:"
      ],
      "metadata": {
        "id": "CH4c3iDXFc3J"
      }
    },
    {
      "cell_type": "code",
      "source": [
        "(5 + 30) * 20"
      ],
      "metadata": {
        "colab": {
          "base_uri": "https://localhost:8080/"
        },
        "id": "ihUlqgBDE-BV",
        "outputId": "01df5e1e-c914-4d50-dc67-a02326bb8548"
      },
      "execution_count": 2,
      "outputs": [
        {
          "output_type": "execute_result",
          "data": {
            "text/plain": [
              "700"
            ]
          },
          "metadata": {},
          "execution_count": 2
        }
      ]
    },
    {
      "cell_type": "markdown",
      "source": [
        "The result of this equation is 700 (not 605) because the parentheses tell Python to do the operation in the parentheses first, and then do the operation outside the parentheses."
      ],
      "metadata": {
        "id": "5ygCgYEEFqID"
      }
    },
    {
      "cell_type": "markdown",
      "source": [
        "#Nested Parentheses\n",
        "Inner and outer Parentheses"
      ],
      "metadata": {
        "id": "DqmJlZQCFxq1"
      }
    },
    {
      "cell_type": "code",
      "source": [
        "((5+30)*20)/10"
      ],
      "metadata": {
        "colab": {
          "base_uri": "https://localhost:8080/"
        },
        "id": "ShOp36A2FhcG",
        "outputId": "dbec0a83-d5ae-47e5-bc99-2f6710d999a3"
      },
      "execution_count": 3,
      "outputs": [
        {
          "output_type": "execute_result",
          "data": {
            "text/plain": [
              "70.0"
            ]
          },
          "metadata": {},
          "execution_count": 3
        }
      ]
    },
    {
      "cell_type": "markdown",
      "source": [
        "In this case, Python evaluates the innermost parentheses first, then the outer ones, and then the final division operator. In other words, this equation is saying, “add 5 to 30, then multiply the result by 20, and divide that result by 10.” Here’s what happens:\n",
        "• Adding 5 to 30 gives 35.\n",
        "• Multiplying 35 by 20 gives 700.\n",
        "• Dividing 700 by 10 gives the final answer of 70."
      ],
      "metadata": {
        "id": "trqlzDBuGDk6"
      }
    },
    {
      "cell_type": "markdown",
      "source": [
        "#Variables\n",
        "Variable in programming means a place to store information such as numbers, text, list of numbers and text etc.Its like variable is a label for something.To create a variable name Ali, we use an equal sign ="
      ],
      "metadata": {
        "id": "CV7h_2kqGfAC"
      }
    },
    {
      "cell_type": "code",
      "source": [
        "Ali=100"
      ],
      "metadata": {
        "id": "DDqX8I5SF8Tf"
      },
      "execution_count": 4,
      "outputs": []
    },
    {
      "cell_type": "markdown",
      "source": [
        "Variable names can be made up of letters, numbers and the underscore character ( _ ), but they cant start with a number. You can use anything from single letters such as (a) to long sentences for variable names. But you cannot use space ( )A short name variable is best "
      ],
      "metadata": {
        "id": "5LxczWrWGrk9"
      }
    },
    {
      "cell_type": "markdown",
      "source": [
        "#Variable exercise"
      ],
      "metadata": {
        "id": "Uaf-knSJGwlc"
      }
    },
    {
      "cell_type": "code",
      "source": [
        "ali_coins=20\n",
        "fahad_coins=10\n",
        "abdullah_coins=10\n",
        "\n",
        "ali_coins+fahad_coins+abdullah_coins"
      ],
      "metadata": {
        "colab": {
          "base_uri": "https://localhost:8080/"
        },
        "id": "9l2UN1T5GnMK",
        "outputId": "4ba6df10-a323-421a-b2bf-342e6f4b4c83"
      },
      "execution_count": 5,
      "outputs": [
        {
          "output_type": "execute_result",
          "data": {
            "text/plain": [
              "40"
            ]
          },
          "metadata": {},
          "execution_count": 5
        }
      ]
    },
    {
      "cell_type": "markdown",
      "source": [
        "#Strings in Python"
      ],
      "metadata": {
        "id": "6IJB52oMp8c6"
      }
    },
    {
      "cell_type": "markdown",
      "source": [
        "we create a string by putting quotes around text. one can also use sigle or double quotes"
      ],
      "metadata": {
        "id": "aQJtUchC_Tzj"
      }
    },
    {
      "cell_type": "code",
      "source": [
        "abubakr = 'first caliph!!'\n",
        "print(abubakr)"
      ],
      "metadata": {
        "id": "gMsy71vEG5yc",
        "colab": {
          "base_uri": "https://localhost:8080/"
        },
        "outputId": "6d8f55cb-222a-49e9-b54a-bce12c3bb152"
      },
      "execution_count": 6,
      "outputs": [
        {
          "output_type": "stream",
          "name": "stdout",
          "text": [
            "first caliph!!\n"
          ]
        }
      ]
    },
    {
      "cell_type": "code",
      "source": [
        "abubakr = \"first caliph!!\"\n",
        "print(abubakr)"
      ],
      "metadata": {
        "colab": {
          "base_uri": "https://localhost:8080/"
        },
        "id": "caiAr--lB7OS",
        "outputId": "8c365326-78d1-4f76-e5a6-6ec97ffdab8a"
      },
      "execution_count": 7,
      "outputs": [
        {
          "output_type": "stream",
          "name": "stdout",
          "text": [
            "first caliph!!\n"
          ]
        }
      ]
    },
    {
      "cell_type": "markdown",
      "source": [
        "#Syntax and Syntax Error"
      ],
      "metadata": {
        "id": "ZAl1cxCuA2dW"
      }
    },
    {
      "cell_type": "markdown",
      "source": [
        "*   Syntax means the arrangement and order of word in a sentence.\n",
        "*   Syntax error means that you did something in an order python was not expecting or you missed something.\n"
      ],
      "metadata": {
        "id": "FF1uEQkAA7RN"
      }
    },
    {
      "cell_type": "code",
      "source": [
        "abubakr = 'first caliph!!\n",
        "print(abubakr)"
      ],
      "metadata": {
        "colab": {
          "base_uri": "https://localhost:8080/",
          "height": 130
        },
        "id": "BnAW31iU-oqu",
        "outputId": "720406f2-f933-41d4-e46a-a07dba3c91e4"
      },
      "execution_count": 8,
      "outputs": [
        {
          "output_type": "error",
          "ename": "SyntaxError",
          "evalue": "ignored",
          "traceback": [
            "\u001b[0;36m  File \u001b[0;32m\"<ipython-input-8-c7062b08b869>\"\u001b[0;36m, line \u001b[0;32m1\u001b[0m\n\u001b[0;31m    abubakr = 'first caliph!!\u001b[0m\n\u001b[0m                             ^\u001b[0m\n\u001b[0;31mSyntaxError\u001b[0m\u001b[0;31m:\u001b[0m EOL while scanning string literal\n"
          ]
        }
      ]
    },
    {
      "cell_type": "markdown",
      "source": [
        "#Strings Problems handling"
      ],
      "metadata": {
        "id": "ot76l9IjCf1P"
      }
    },
    {
      "cell_type": "markdown",
      "source": [
        "**Adding second line to your command**\n",
        "\n",
        "\n",
        "*   You can use 3 single quotes to write a second or third or as many lines as you want to a given command.\n",
        "\n"
      ],
      "metadata": {
        "id": "ywjUItYACiBP"
      }
    },
    {
      "cell_type": "code",
      "source": [
        "abubakr= '''first\n",
        "Righteous\n",
        "caliph!!'''\n",
        "print(abubakr)"
      ],
      "metadata": {
        "colab": {
          "base_uri": "https://localhost:8080/"
        },
        "id": "P8-BsZE0BxyK",
        "outputId": "90605731-121a-41ee-b880-15c8c34de61d"
      },
      "execution_count": 9,
      "outputs": [
        {
          "output_type": "stream",
          "name": "stdout",
          "text": [
            "first\n",
            "Righteous\n",
            "caliph!!\n"
          ]
        }
      ]
    },
    {
      "cell_type": "markdown",
      "source": [
        "to handle a sentence which contains multiple single or double quotes use 3 single quotes to handle this problem."
      ],
      "metadata": {
        "id": "EbBHlwFGD5zB"
      }
    },
    {
      "cell_type": "code",
      "source": [
        "silly_string= '''He said, \"Aren't can't shouldn't wouldn't.\"'''\n",
        "print(silly_string)"
      ],
      "metadata": {
        "id": "R8TDevhqDU7f",
        "outputId": "4780f8ec-a569-48df-ac75-6d7183d3c1a2",
        "colab": {
          "base_uri": "https://localhost:8080/"
        }
      },
      "execution_count": 10,
      "outputs": [
        {
          "output_type": "stream",
          "name": "stdout",
          "text": [
            "He said, \"Aren't can't shouldn't wouldn't.\"\n"
          ]
        }
      ]
    },
    {
      "cell_type": "markdown",
      "source": [
        "**Adding a backslash  \\or escaping**\n",
        "\n",
        "\n",
        "* \\or excapingmeans “Yes, I know I have quotes inside my string, and I want you to ignore them until you see the end quote."
      ],
      "metadata": {
        "id": "AIVBRjfqELaF"
      }
    },
    {
      "cell_type": "code",
      "source": [
        "single_quote_str= 'He said, \"Aren\\'t can\\'t shouldn\\'t wouldn\\'t.\"'\n",
        "print (single_quote_str)"
      ],
      "metadata": {
        "id": "ac-qGgbwD3r4",
        "outputId": "d666f033-fffc-4065-96c1-36237628563d",
        "colab": {
          "base_uri": "https://localhost:8080/"
        }
      },
      "execution_count": 11,
      "outputs": [
        {
          "output_type": "stream",
          "name": "stdout",
          "text": [
            "He said, \"Aren't can't shouldn't wouldn't.\"\n"
          ]
        }
      ]
    },
    {
      "cell_type": "code",
      "source": [
        "double_quote_str= \"He said, \\\"Aren't can't shouldn't wouldn't.\\\"\"\n",
        "print (double_quote_str)"
      ],
      "metadata": {
        "id": "SgPnrnonEvWy",
        "outputId": "9dd80b3e-0fe9-447b-d650-4714419891e2",
        "colab": {
          "base_uri": "https://localhost:8080/"
        }
      },
      "execution_count": 12,
      "outputs": [
        {
          "output_type": "stream",
          "name": "stdout",
          "text": [
            "He said, \"Aren't can't shouldn't wouldn't.\"\n"
          ]
        }
      ]
    },
    {
      "cell_type": "markdown",
      "source": [
        "#Embedding value in strings"
      ],
      "metadata": {
        "id": "o-cFkgW-bqhS"
      }
    },
    {
      "cell_type": "markdown",
      "source": [
        "(Embedding values, also referred to as string substitution, is programmer-speak for “inserting values.”) For example, to have Python calculate or store the number of points you scored in a game, and then add it to a sentence like “I scored points,” use %s in the sentence in place of the value, and then tell Python that value, like this:"
      ],
      "metadata": {
        "id": "ZbEYW-U3cpg9"
      }
    },
    {
      "cell_type": "code",
      "source": [
        "myscore= 1000\n",
        "message = 'I scored %s points'\n",
        "print(message % myscore)"
      ],
      "metadata": {
        "id": "GpFVmhdcFfKW",
        "colab": {
          "base_uri": "https://localhost:8080/"
        },
        "outputId": "cbd935f8-e8e0-4b2b-f5b9-31ee89c3b30b"
      },
      "execution_count": 13,
      "outputs": [
        {
          "output_type": "stream",
          "name": "stdout",
          "text": [
            "I scored 1000 points\n"
          ]
        }
      ]
    },
    {
      "cell_type": "code",
      "source": [
        "nums= 'What did the number %s say to the number %s? Nice belt!!'\n",
        "print(nums% (0, 8))"
      ],
      "metadata": {
        "colab": {
          "base_uri": "https://localhost:8080/"
        },
        "id": "yaqzmk5kc9gg",
        "outputId": "6ca9d040-1e97-4fc9-e904-d0d56423b8b5"
      },
      "execution_count": 14,
      "outputs": [
        {
          "output_type": "stream",
          "name": "stdout",
          "text": [
            "What did the number 0 say to the number 8? Nice belt!!\n"
          ]
        }
      ]
    },
    {
      "cell_type": "markdown",
      "source": [
        "#Multiplying Strings"
      ],
      "metadata": {
        "id": "tvsmHkZ5q-v4"
      }
    },
    {
      "cell_type": "code",
      "source": [
        "print(10 * 'a')"
      ],
      "metadata": {
        "colab": {
          "base_uri": "https://localhost:8080/"
        },
        "id": "CGJt-XdQdnOf",
        "outputId": "7973f56c-d363-4a1a-bebf-94fdce454b8f"
      },
      "execution_count": 15,
      "outputs": [
        {
          "output_type": "stream",
          "name": "stdout",
          "text": [
            "aaaaaaaaaa\n"
          ]
        }
      ]
    },
    {
      "cell_type": "code",
      "source": [
        "spaces = ' ' * 25\n",
        "print('%s 12 DHA Phase 5' % spaces)\n",
        "print('%s Clifton' % spaces)\n",
        "print('%s West Snoring' % spaces)\n",
        "print()\n",
        "print()\n",
        "print('Dear Sir')\n",
        "print()\n",
        "print('I wish to report that tiles are missing from the')\n",
        "print('outside toilet roof.')\n",
        "print('I think it was bad wind the other night that blew them away.')\n",
        "print()\n",
        "print('Regards')\n",
        "print('Sharfoo')"
      ],
      "metadata": {
        "colab": {
          "base_uri": "https://localhost:8080/"
        },
        "id": "299nI_sJrFVk",
        "outputId": "20ae0b72-6e16-4051-e797-12f33ff68486"
      },
      "execution_count": 16,
      "outputs": [
        {
          "output_type": "stream",
          "name": "stdout",
          "text": [
            "                          12 DHA Phase 5\n",
            "                          Clifton\n",
            "                          West Snoring\n",
            "\n",
            "\n",
            "Dear Sir\n",
            "\n",
            "I wish to report that tiles are missing from the\n",
            "outside toilet roof.\n",
            "I think it was bad wind the other night that blew them away.\n",
            "\n",
            "Regards\n",
            "Sharfoo\n"
          ]
        }
      ]
    },
    {
      "cell_type": "markdown",
      "source": [
        "#Lists vs. string"
      ],
      "metadata": {
        "id": "JeD8K7LYsGCE"
      }
    },
    {
      "cell_type": "markdown",
      "source": [
        "**Creating a list**"
      ],
      "metadata": {
        "id": "tvyyVh4fsnZS"
      }
    },
    {
      "cell_type": "code",
      "source": [
        "sharfoo_list=['sabzee, fruit, aloo, chai']\n",
        "print(sharfoo_list[0])"
      ],
      "metadata": {
        "colab": {
          "base_uri": "https://localhost:8080/"
        },
        "id": "oHoIUFoTrwQR",
        "outputId": "804bcc3a-aa8b-4380-fc48-a1ce12aeb618"
      },
      "execution_count": 17,
      "outputs": [
        {
          "output_type": "stream",
          "name": "stdout",
          "text": [
            "sabzee, fruit, aloo, chai\n"
          ]
        }
      ]
    },
    {
      "cell_type": "markdown",
      "source": [
        "Creating a list takes a bit more typing than creating a string, but a list is more useful than a string because it can be manipulated."
      ],
      "metadata": {
        "id": "EwLI-xO2szhm"
      }
    },
    {
      "cell_type": "code",
      "source": [
        "sharfoo_list=['sabzee', 'fruit', 'aloo', 'chai']\n",
        "print(sharfoo_list[2])"
      ],
      "metadata": {
        "colab": {
          "base_uri": "https://localhost:8080/"
        },
        "id": "_rMXi4tisseW",
        "outputId": "b47fd5c4-a3bd-4da1-c865-c5f65ce4736b"
      },
      "execution_count": 18,
      "outputs": [
        {
          "output_type": "stream",
          "name": "stdout",
          "text": [
            "aloo\n"
          ]
        }
      ]
    },
    {
      "cell_type": "code",
      "source": [
        "print(sharfoo_list[0:3])"
      ],
      "metadata": {
        "colab": {
          "base_uri": "https://localhost:8080/"
        },
        "id": "aX0R5OCrs9yh",
        "outputId": "642eac3a-361a-4194-9be8-059c832868fa"
      },
      "execution_count": 19,
      "outputs": [
        {
          "output_type": "stream",
          "name": "stdout",
          "text": [
            "['sabzee', 'fruit', 'aloo']\n"
          ]
        }
      ]
    },
    {
      "cell_type": "markdown",
      "source": [
        "Writing [0:3] is the same as saying, “show the items from index position 0 up to (but not including) index position 3”—or in other words, items 0, 1, and 2."
      ],
      "metadata": {
        "id": "dU8oQr4HtGru"
      }
    },
    {
      "cell_type": "markdown",
      "source": [
        "Lists can store all sorts of items, like numbers and strings"
      ],
      "metadata": {
        "id": "iBpFqOTHt7zM"
      }
    },
    {
      "cell_type": "code",
      "source": [
        "some_numbers= [1, 2, 5, 10, 20]"
      ],
      "metadata": {
        "id": "M41emHgRtHh8"
      },
      "execution_count": 20,
      "outputs": []
    },
    {
      "cell_type": "code",
      "source": [
        "some_strings= ['Which', 'Witch', 'Is', 'Which']"
      ],
      "metadata": {
        "id": "tBtEkWmUuAbj"
      },
      "execution_count": 21,
      "outputs": []
    },
    {
      "cell_type": "markdown",
      "source": [
        "List strings and number example"
      ],
      "metadata": {
        "id": "Bih1pxuSuPgC"
      }
    },
    {
      "cell_type": "code",
      "source": [
        "numbers_and_strings= ['Why', 'was', 6, 'afraid', 'of', 7, 'because', 7, 8, 9]\n",
        "print(numbers_and_strings)"
      ],
      "metadata": {
        "colab": {
          "base_uri": "https://localhost:8080/"
        },
        "id": "WGjaEv93uD_q",
        "outputId": "d9db4553-e7cb-4a7b-b9cb-749f37a51174"
      },
      "execution_count": 22,
      "outputs": [
        {
          "output_type": "stream",
          "name": "stdout",
          "text": [
            "['Why', 'was', 6, 'afraid', 'of', 7, 'because', 7, 8, 9]\n"
          ]
        }
      ]
    },
    {
      "cell_type": "markdown",
      "source": [
        "List within a list 😀"
      ],
      "metadata": {
        "id": "YJrhCcP9ui0v"
      }
    },
    {
      "cell_type": "code",
      "source": [
        "numbers = [1, 2, 3, 4]\n",
        "strings = ['I', 'kicked', 'my', 'toe', 'and', 'it', 'is', 'sore']\n",
        "mylist= [numbers, strings]\n",
        "print(mylist)"
      ],
      "metadata": {
        "colab": {
          "base_uri": "https://localhost:8080/"
        },
        "id": "Wnv8X9sRubQc",
        "outputId": "4fd4ca14-4969-45a4-8a9b-49ed2844bddd"
      },
      "execution_count": 23,
      "outputs": [
        {
          "output_type": "stream",
          "name": "stdout",
          "text": [
            "[[1, 2, 3, 4], ['I', 'kicked', 'my', 'toe', 'and', 'it', 'is', 'sore']]\n"
          ]
        }
      ]
    },
    {
      "cell_type": "markdown",
      "source": [
        "**Adding items to a LIST**"
      ],
      "metadata": {
        "id": "3ZD4cUouvE5a"
      }
    },
    {
      "cell_type": "code",
      "source": [
        "wizard_list= ['spider legs', 'toe of frog', 'eye of newt', 'bat wing', 'slug butter', 'snake dandruff']\n",
        "wizard_list.append('bear burp')\n",
        "print(wizard_list)"
      ],
      "metadata": {
        "colab": {
          "base_uri": "https://localhost:8080/"
        },
        "id": "h2BdhqXou_Fo",
        "outputId": "2ada9b8c-d308-45b0-e177-bb03bd04ab90"
      },
      "execution_count": 24,
      "outputs": [
        {
          "output_type": "stream",
          "name": "stdout",
          "text": [
            "['spider legs', 'toe of frog', 'eye of newt', 'bat wing', 'slug butter', 'snake dandruff', 'bear burp']\n"
          ]
        }
      ]
    },
    {
      "cell_type": "code",
      "source": [
        "wizard_list.append('mandrake')\n",
        "wizard_list.append('hemlock')\n",
        "wizard_list.append('swamp gas')"
      ],
      "metadata": {
        "id": "d4kTsuhyvnH-"
      },
      "execution_count": 25,
      "outputs": []
    },
    {
      "cell_type": "code",
      "source": [
        "print(wizard_list)"
      ],
      "metadata": {
        "colab": {
          "base_uri": "https://localhost:8080/"
        },
        "id": "Iy_gF56bv-X9",
        "outputId": "c8582bab-716e-475a-966e-a6ad55c48b63"
      },
      "execution_count": 26,
      "outputs": [
        {
          "output_type": "stream",
          "name": "stdout",
          "text": [
            "['spider legs', 'toe of frog', 'eye of newt', 'bat wing', 'slug butter', 'snake dandruff', 'bear burp', 'mandrake', 'hemlock', 'swamp gas']\n"
          ]
        }
      ]
    },
    {
      "cell_type": "markdown",
      "source": [
        "**Removing items from the list**"
      ],
      "metadata": {
        "id": "GAZPHhxVwTE1"
      }
    },
    {
      "cell_type": "code",
      "source": [
        "wizard_list= ['spider legs', 'toe of frog', 'eye of newt', 'bat wing', 'slug butter', 'snake dandruff']\n",
        "wizard_list.append('bear burp')\n",
        "del wizard_list[5]\n",
        "print(wizard_list)"
      ],
      "metadata": {
        "colab": {
          "base_uri": "https://localhost:8080/"
        },
        "id": "uJxQm3UYwCIz",
        "outputId": "803e113c-074b-4bcf-c0be-4ee657f22bec"
      },
      "execution_count": 27,
      "outputs": [
        {
          "output_type": "stream",
          "name": "stdout",
          "text": [
            "['spider legs', 'toe of frog', 'eye of newt', 'bat wing', 'slug butter', 'bear burp']\n"
          ]
        }
      ]
    },
    {
      "cell_type": "markdown",
      "source": [
        "**List Arithmetic**\n",
        "\n",
        "We can join two lists by using +"
      ],
      "metadata": {
        "id": "fnXCxXsfw3ot"
      }
    },
    {
      "cell_type": "code",
      "source": [
        "list1 = [1, 2, 3, 4]\n",
        "list2 = ['I', 'ate', 'chocolate', 'and', 'I', 'want', 'more']\n",
        "list3 = list1 + list2\n",
        "print(list3)"
      ],
      "metadata": {
        "colab": {
          "base_uri": "https://localhost:8080/"
        },
        "id": "uzG_k95iwpzU",
        "outputId": "7d3d6180-d537-45f5-9222-c54a81c979d9"
      },
      "execution_count": 28,
      "outputs": [
        {
          "output_type": "stream",
          "name": "stdout",
          "text": [
            "[1, 2, 3, 4, 'I', 'ate', 'chocolate', 'and', 'I', 'want', 'more']\n"
          ]
        }
      ]
    },
    {
      "cell_type": "markdown",
      "source": [
        "And we can multiply a list by a number."
      ],
      "metadata": {
        "id": "hQQABXJFxatw"
      }
    },
    {
      "cell_type": "code",
      "source": [
        "list1 = [1, 2]\n",
        "print(list1 * 5)"
      ],
      "metadata": {
        "colab": {
          "base_uri": "https://localhost:8080/"
        },
        "id": "UOCIt6ZLxIW0",
        "outputId": "247ea857-05f7-4798-90ed-4bee9cafb145"
      },
      "execution_count": 29,
      "outputs": [
        {
          "output_type": "stream",
          "name": "stdout",
          "text": [
            "[1, 2, 1, 2, 1, 2, 1, 2, 1, 2]\n"
          ]
        }
      ]
    },
    {
      "cell_type": "markdown",
      "source": [
        "On the other hand, division (/) and subtraction (-) give only errors"
      ],
      "metadata": {
        "id": "lYDqVLE1xnFa"
      }
    },
    {
      "cell_type": "code",
      "source": [
        "list1 = [1, 2]\n",
        "list1 / 20\n",
        "print(list1)"
      ],
      "metadata": {
        "colab": {
          "base_uri": "https://localhost:8080/",
          "height": 200
        },
        "id": "Gd1HxoKhxf9D",
        "outputId": "97def242-a2b9-49c6-b645-d987de293893"
      },
      "execution_count": 30,
      "outputs": [
        {
          "output_type": "error",
          "ename": "TypeError",
          "evalue": "ignored",
          "traceback": [
            "\u001b[0;31m---------------------------------------------------------------------------\u001b[0m",
            "\u001b[0;31mTypeError\u001b[0m                                 Traceback (most recent call last)",
            "\u001b[0;32m<ipython-input-30-06d5ab3556d0>\u001b[0m in \u001b[0;36m<module>\u001b[0;34m()\u001b[0m\n\u001b[1;32m      1\u001b[0m \u001b[0mlist1\u001b[0m \u001b[0;34m=\u001b[0m \u001b[0;34m[\u001b[0m\u001b[0;36m1\u001b[0m\u001b[0;34m,\u001b[0m \u001b[0;36m2\u001b[0m\u001b[0;34m]\u001b[0m\u001b[0;34m\u001b[0m\u001b[0;34m\u001b[0m\u001b[0m\n\u001b[0;32m----> 2\u001b[0;31m \u001b[0mlist1\u001b[0m \u001b[0;34m/\u001b[0m \u001b[0;36m20\u001b[0m\u001b[0;34m\u001b[0m\u001b[0;34m\u001b[0m\u001b[0m\n\u001b[0m\u001b[1;32m      3\u001b[0m \u001b[0mprint\u001b[0m\u001b[0;34m(\u001b[0m\u001b[0mlist1\u001b[0m\u001b[0;34m)\u001b[0m\u001b[0;34m\u001b[0m\u001b[0;34m\u001b[0m\u001b[0m\n",
            "\u001b[0;31mTypeError\u001b[0m: unsupported operand type(s) for /: 'list' and 'int'"
          ]
        }
      ]
    },
    {
      "cell_type": "code",
      "source": [
        "list1 -20"
      ],
      "metadata": {
        "colab": {
          "base_uri": "https://localhost:8080/",
          "height": 165
        },
        "id": "M8QsAG2Fx4qb",
        "outputId": "2d4429a7-765f-49e1-f954-1f7f3ec85348"
      },
      "execution_count": 31,
      "outputs": [
        {
          "output_type": "error",
          "ename": "TypeError",
          "evalue": "ignored",
          "traceback": [
            "\u001b[0;31m---------------------------------------------------------------------------\u001b[0m",
            "\u001b[0;31mTypeError\u001b[0m                                 Traceback (most recent call last)",
            "\u001b[0;32m<ipython-input-31-7333a4b1c242>\u001b[0m in \u001b[0;36m<module>\u001b[0;34m()\u001b[0m\n\u001b[0;32m----> 1\u001b[0;31m \u001b[0mlist1\u001b[0m \u001b[0;34m-\u001b[0m\u001b[0;36m20\u001b[0m\u001b[0;34m\u001b[0m\u001b[0;34m\u001b[0m\u001b[0m\n\u001b[0m",
            "\u001b[0;31mTypeError\u001b[0m: unsupported operand type(s) for -: 'list' and 'int'"
          ]
        }
      ]
    },
    {
      "cell_type": "markdown",
      "source": [
        "#Tuples"
      ],
      "metadata": {
        "id": "lFWkDgowzAGJ"
      }
    },
    {
      "cell_type": "markdown",
      "source": [
        "A tuple is like a list that uses parentheses, as in this example:"
      ],
      "metadata": {
        "id": "iMNBU-37zGQX"
      }
    },
    {
      "cell_type": "code",
      "source": [
        "fibs = (0, 1, 1, 2, 3)\n",
        "print(fibs[3])"
      ],
      "metadata": {
        "colab": {
          "base_uri": "https://localhost:8080/"
        },
        "id": "pVY-CWrMxxO_",
        "outputId": "787eb41a-da49-4699-adcf-24353b4dd8e5"
      },
      "execution_count": 32,
      "outputs": [
        {
          "output_type": "stream",
          "name": "stdout",
          "text": [
            "2\n"
          ]
        }
      ]
    },
    {
      "cell_type": "markdown",
      "source": [
        "The main difference between a tuple and a list is that a tuple cannot change once you’ve created it."
      ],
      "metadata": {
        "id": "2viI0R7yzPBx"
      }
    },
    {
      "cell_type": "code",
      "source": [
        "fibs[0] = 4"
      ],
      "metadata": {
        "id": "XpIQVBELzKBq",
        "outputId": "b1992ce2-37a2-4f5d-8f3c-31226a8cdc41",
        "colab": {
          "base_uri": "https://localhost:8080/",
          "height": 165
        }
      },
      "execution_count": 33,
      "outputs": [
        {
          "output_type": "error",
          "ename": "TypeError",
          "evalue": "ignored",
          "traceback": [
            "\u001b[0;31m---------------------------------------------------------------------------\u001b[0m",
            "\u001b[0;31mTypeError\u001b[0m                                 Traceback (most recent call last)",
            "\u001b[0;32m<ipython-input-33-c24a12b6f4c7>\u001b[0m in \u001b[0;36m<module>\u001b[0;34m()\u001b[0m\n\u001b[0;32m----> 1\u001b[0;31m \u001b[0mfibs\u001b[0m\u001b[0;34m[\u001b[0m\u001b[0;36m0\u001b[0m\u001b[0;34m]\u001b[0m \u001b[0;34m=\u001b[0m \u001b[0;36m4\u001b[0m\u001b[0;34m\u001b[0m\u001b[0;34m\u001b[0m\u001b[0m\n\u001b[0m",
            "\u001b[0;31mTypeError\u001b[0m: 'tuple' object does not support item assignment"
          ]
        }
      ]
    },
    {
      "cell_type": "markdown",
      "source": [
        "#Python Maps"
      ],
      "metadata": {
        "id": "wgMkucdJGbcf"
      }
    },
    {
      "cell_type": "markdown",
      "source": [
        "In Python, a map (also referred to as a dict, short for dictionary) is a collection of things, like lists and tuples. The difference between maps and lists or tuples is that each item in a map has a key and a corresponding value. For example, say we have a list of people and their favorite sports. We could put this information into a Python list, with the person’s name followed by their sport, like so:"
      ],
      "metadata": {
        "id": "lK9ieRflIZ_2"
      }
    },
    {
      "cell_type": "markdown",
      "source": [
        "**Creating a map in Python**"
      ],
      "metadata": {
        "id": "TySvQyQqIf0B"
      }
    },
    {
      "cell_type": "code",
      "source": [
        "favorite_sports= {'Ali' : 'Football',\n",
        "                  'Omer' : 'Basketball',\n",
        "                  'Osman' : 'Baseball',\n",
        "                  'Abu Bakr' : 'Netball',\n",
        "                  'Fatima' : 'Badminton',\n",
        "                  'Faizan' : 'Rugby'}\n",
        "print(favorite_sports['Ali'])"
      ],
      "metadata": {
        "id": "ID3LCZw3zX3B",
        "colab": {
          "base_uri": "https://localhost:8080/"
        },
        "outputId": "afa445ab-9e70-4f3a-bfb6-1b3ac209c478"
      },
      "execution_count": 34,
      "outputs": [
        {
          "output_type": "stream",
          "name": "stdout",
          "text": [
            "Football\n"
          ]
        }
      ]
    },
    {
      "cell_type": "markdown",
      "source": [
        "**Modifying a value in a map**"
      ],
      "metadata": {
        "id": "ykPnepOONT55"
      }
    },
    {
      "cell_type": "code",
      "source": [
        "favorite_sports['Faizan'] = 'Cricket'\n",
        "print(favorite_sports['Faizan'])"
      ],
      "metadata": {
        "colab": {
          "base_uri": "https://localhost:8080/"
        },
        "id": "iMcdHv_-K3k1",
        "outputId": "d7050340-2369-4491-c2eb-b3cae50b7a61"
      },
      "execution_count": 35,
      "outputs": [
        {
          "output_type": "stream",
          "name": "stdout",
          "text": [
            "Cricket\n"
          ]
        }
      ]
    },
    {
      "cell_type": "markdown",
      "source": [
        "**Deleting a value in the map**"
      ],
      "metadata": {
        "id": "Mt8SkBuZN_7f"
      }
    },
    {
      "cell_type": "code",
      "source": [
        "del favorite_sports['Ali']\n",
        "print(favorite_sports)"
      ],
      "metadata": {
        "colab": {
          "base_uri": "https://localhost:8080/"
        },
        "id": "aBApklJQK87w",
        "outputId": "4683a4fe-3242-479c-e3ae-89021aee7b17"
      },
      "execution_count": 36,
      "outputs": [
        {
          "output_type": "stream",
          "name": "stdout",
          "text": [
            "{'Omer': 'Basketball', 'Osman': 'Baseball', 'Abu Bakr': 'Netball', 'Fatima': 'Badminton', 'Faizan': 'Cricket'}\n"
          ]
        }
      ]
    },
    {
      "cell_type": "markdown",
      "source": [
        "As you can see, working with maps is kind of like working with lists and tuples, except that you can’t join maps with the plus operator (+). If you try to do that, you’ll get an error message:"
      ],
      "metadata": {
        "id": "S9tNNxfnOgSu"
      }
    },
    {
      "cell_type": "markdown",
      "source": [
        "#Conditions if and else"
      ],
      "metadata": {
        "id": "1vdIgxquTX9M"
      }
    },
    {
      "cell_type": "code",
      "source": [
        "age = 13\n",
        "if age > 20:\n",
        "  print('You are too old!')\n",
        "else:\n",
        "  print('you are under 20')"
      ],
      "metadata": {
        "colab": {
          "base_uri": "https://localhost:8080/"
        },
        "id": "BFZ0M5cfOVhl",
        "outputId": "bc3b66ef-c79e-486d-f5fd-99d659d2058a"
      },
      "execution_count": 37,
      "outputs": [
        {
          "output_type": "stream",
          "name": "stdout",
          "text": [
            "you are under 20\n"
          ]
        }
      ]
    },
    {
      "cell_type": "markdown",
      "source": [
        "**IF AND ELIF (else-if) STATEMENTS**"
      ],
      "metadata": {
        "id": "eLscpH5o9tY7"
      }
    },
    {
      "cell_type": "code",
      "source": [
        "age = 12\n",
        "if age == 10:\n",
        "  print(\"What do you call an unhappy cranberry?\")\n",
        "  print(\"A blueberry!\")\n",
        "elif age == 11:\n",
        "  print(\"What did the green grape say to the blue grape?\")\n",
        "  print(\"Breathe! Breathe!\")\n",
        "elif age == 12:\n",
        "  print(\"What did 0 say to 8?\")\n",
        "  print(\"Hi guys!\")\n",
        "elif age == 13:\n",
        "  print(\"Why wasn't 10 afraid of 7?\")\n",
        "  print(\"Because rather than eating 9, 7 8 pi.\")\n",
        "else:\n",
        "  print(\"Huh?\")"
      ],
      "metadata": {
        "id": "kAf-KcHCUpOf",
        "outputId": "168ad740-2217-4872-bb18-bfdb85257b5c",
        "colab": {
          "base_uri": "https://localhost:8080/"
        }
      },
      "execution_count": 38,
      "outputs": [
        {
          "output_type": "stream",
          "name": "stdout",
          "text": [
            "What did 0 say to 8?\n",
            "Hi guys!\n"
          ]
        }
      ]
    },
    {
      "cell_type": "markdown",
      "source": [
        "You can combine conditions by using the keywords and andor, which produces shorter and simpler code. Here’s an example of using or:"
      ],
      "metadata": {
        "id": "ZiWnS5W5-ZDO"
      }
    },
    {
      "cell_type": "code",
      "source": [
        "age=10\n",
        "if age == 10 or age == 11 or age == 12 or age == 13:\n",
        "  print('What is 13 + 49 + 84 + 155 + 97? A headache!')\n",
        "else:\n",
        "  print('Huh?')"
      ],
      "metadata": {
        "id": "AOT9H-Lz-Rca",
        "outputId": "8b125e46-3873-4772-d419-790b77b4e8f1",
        "colab": {
          "base_uri": "https://localhost:8080/"
        }
      },
      "execution_count": 39,
      "outputs": [
        {
          "output_type": "stream",
          "name": "stdout",
          "text": [
            "What is 13 + 49 + 84 + 155 + 97? A headache!\n"
          ]
        }
      ]
    },
    {
      "cell_type": "markdown",
      "source": [
        "Using greater than or equal-to operator (>=) and less-than-equal-to operator(<=)"
      ],
      "metadata": {
        "id": "b9Ghxpr0-nwV"
      }
    },
    {
      "cell_type": "code",
      "source": [
        "age=10\n",
        "\n",
        "if age >= 10 and age <= 13:\n",
        "  print('What is 13 + 49 + 84 + 155 + 97? A headache!')\n",
        "else:\n",
        "  print('Huh?')"
      ],
      "metadata": {
        "id": "EECFTGDk-m9k",
        "outputId": "3a498cb2-cd9e-4424-a9d4-91f5442b83df",
        "colab": {
          "base_uri": "https://localhost:8080/"
        }
      },
      "execution_count": 40,
      "outputs": [
        {
          "output_type": "stream",
          "name": "stdout",
          "text": [
            "What is 13 + 49 + 84 + 155 + 97? A headache!\n"
          ]
        }
      ]
    },
    {
      "cell_type": "markdown",
      "source": [
        "#Variables with no Value-None\n",
        "\n",
        "Just as we can assign numbers, strings, and lists to a variable, we can also assign nothing, or an empty value, to a variable. In Python, an empty value is referred to as None, and it is the absence of value.\n",
        "\n",
        "And it’s important to note that the value None is different from the value 0 because it is the absence of a value, rather than a number with a value of 0. The only value that a variable has when we give it the empty value None is nothing. Here’s an example:© 2018 Al-Nafi. All Rights Reserved.12\n"
      ],
      "metadata": {
        "id": "yNVQhulh--Ea"
      }
    },
    {
      "cell_type": "code",
      "source": [
        "myval= None\n",
        "\n",
        "if myval== None:\n",
        "  print(\"The variable myvaldoesn't have a value\")"
      ],
      "metadata": {
        "id": "LxfyhERR-0cC",
        "outputId": "e0e3483d-793e-49d4-bf8f-fffd01253219",
        "colab": {
          "base_uri": "https://localhost:8080/"
        }
      },
      "execution_count": 41,
      "outputs": [
        {
          "output_type": "stream",
          "name": "stdout",
          "text": [
            "The variable myvaldoesn't have a value\n"
          ]
        }
      ]
    },
    {
      "cell_type": "code",
      "source": [
        ""
      ],
      "metadata": {
        "id": "xLGpvA0V_Qhl"
      },
      "execution_count": null,
      "outputs": []
    }
  ]
}