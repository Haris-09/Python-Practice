{
  "nbformat": 4,
  "nbformat_minor": 0,
  "metadata": {
    "colab": {
      "name": "Basic Data types.ipynb",
      "provenance": [],
      "collapsed_sections": [
        "ZI_446BxeFZR",
        "MYytf55Udwb1",
        "YmxteKo1dTG8",
        "7dwVNURFbUNy",
        "PPSbjJqRRPzw",
        "PwfZtRhBXvw2"
      ],
      "authorship_tag": "ABX9TyOY1gH7qGEee3/OQzRDYT4A",
      "include_colab_link": true
    },
    "kernelspec": {
      "name": "python3",
      "display_name": "Python 3"
    },
    "language_info": {
      "name": "python"
    }
  },
  "cells": [
    {
      "cell_type": "markdown",
      "metadata": {
        "id": "view-in-github",
        "colab_type": "text"
      },
      "source": [
        "<a href=\"https://colab.research.google.com/github/Haris-09/Python-Practice/blob/main/Basic%20Data%20types.ipynb\" target=\"_parent\"><img src=\"https://colab.research.google.com/assets/colab-badge.svg\" alt=\"Open In Colab\"/></a>"
      ]
    },
    {
      "cell_type": "markdown",
      "metadata": {
        "id": "ZI_446BxeFZR"
      },
      "source": [
        "#Challenge 1: Mathematical Calculations\n",
        "##Problem Statement\n",
        "Given a MathOp() function, try the following mathematical calculations and print the output:\n",
        "```\n",
        "(3 / 2)\n",
        "(3 // 2)\n",
        "(3 % 2)\n",
        "(3**2)\n",
        "```\n",
        "###Output\n",
        "The expected output:\n",
        "```\n",
        "1.5\n",
        "1\n",
        "1\n",
        "9\n",
        "```"
      ]
    },
    {
      "cell_type": "code",
      "metadata": {
        "id": "azKE0XxPeW3J"
      },
      "source": [
        "def MathOp():\n",
        "  classic_division=3/2\n",
        "  floor_division=3//2\n",
        "  modulus=3%2\n",
        "  power=3**2\n",
        "  return [classic_division, floor_division, modulus, power]"
      ],
      "execution_count": 13,
      "outputs": []
    },
    {
      "cell_type": "code",
      "metadata": {
        "colab": {
          "base_uri": "https://localhost:8080/"
        },
        "id": "mNbFkd5NeboE",
        "outputId": "7fb865dc-3859-436f-e847-2fc970a4eef8"
      },
      "source": [
        "[classic_division, floor_division, modulus, power]=MathOp()\n",
        "print(classic_division)\n",
        "print(floor_division)\n",
        "print(modulus)\n",
        "print(power)"
      ],
      "execution_count": 14,
      "outputs": [
        {
          "output_type": "stream",
          "name": "stdout",
          "text": [
            "1.5\n",
            "1\n",
            "1\n",
            "9\n"
          ]
        }
      ]
    },
    {
      "cell_type": "markdown",
      "metadata": {
        "id": "MYytf55Udwb1"
      },
      "source": [
        "#Challenge 2: Check Parity of a Number\n",
        "##Problem Statement\n",
        "Given a checkParity(n) function, write code to determine if a given number n is even or odd. Think of this as a function that returns 0 if the number is even, and 1 if it is odd. You have been given some starter code where the function and return statement have already been written, so don’t worry about any Python-specific details about functions; just implement the function logic!\n",
        "\n",
        "###Input\n",
        "A number\n",
        "\n",
        "###Output\n",
        "The parity of the number"
      ]
    },
    {
      "cell_type": "code",
      "metadata": {
        "id": "PHnQfIY4d6r7"
      },
      "source": [
        "def checkParity(n):\n",
        "  result = (n % 2)\n",
        "  return result"
      ],
      "execution_count": 11,
      "outputs": []
    },
    {
      "cell_type": "code",
      "metadata": {
        "colab": {
          "base_uri": "https://localhost:8080/"
        },
        "id": "puZbg4Ygd-oW",
        "outputId": "a49529cb-46a7-484a-d708-0db3d5553a1a"
      },
      "source": [
        "print(\"Odd parity\", checkParity(17))\n",
        "print(\"Even parity\", checkParity(16))"
      ],
      "execution_count": 12,
      "outputs": [
        {
          "output_type": "stream",
          "name": "stdout",
          "text": [
            "Odd parity 1\n",
            "Even parity 0\n"
          ]
        }
      ]
    },
    {
      "cell_type": "markdown",
      "metadata": {
        "id": "YmxteKo1dTG8"
      },
      "source": [
        "#Challenge 3: Find Values Within a Range\n",
        "##Problem Statement\n",
        "Given an inRange(x,y) function, write a method that determines whether a given pair (x, y) falls in the range (x < 1/3 < y). Essentially, you’ll be implementing the body of a function that takes in two numbers x and y and returns True if x < 1/3 < y; otherwise, it returns False.\n",
        "\n",
        "###Input\n",
        "Two numbers, x and y\n",
        "\n",
        "###Output\n",
        "True if x and y are in the range and False otherwise."
      ]
    },
    {
      "cell_type": "code",
      "metadata": {
        "id": "Rm_yKReCdh2L"
      },
      "source": [
        "def inRange(x, y):\n",
        "  return (x < 1/3 < y)"
      ],
      "execution_count": 9,
      "outputs": []
    },
    {
      "cell_type": "code",
      "metadata": {
        "colab": {
          "base_uri": "https://localhost:8080/"
        },
        "id": "3FbBVuJAdooB",
        "outputId": "ceebc1cb-3cf3-40fd-b1bb-b62c4ba61aa4"
      },
      "source": [
        "print(inRange(-1, 3))\n",
        "print(inRange(2, 3))"
      ],
      "execution_count": 10,
      "outputs": [
        {
          "output_type": "stream",
          "name": "stdout",
          "text": [
            "True\n",
            "False\n"
          ]
        }
      ]
    },
    {
      "cell_type": "markdown",
      "metadata": {
        "id": "7dwVNURFbUNy"
      },
      "source": [
        "#Challenge 4: String Transformation\n",
        "##Problem Statement\n",
        "Given a getStr() function, write the necessary sequence of operations to transform the string (containing three literals) in such a way that every literal is tripled​ respectively.\n",
        "\n",
        "###Input\n",
        "A string\n",
        "\n",
        "###Output\n",
        "Triple of every string literal"
      ]
    },
    {
      "cell_type": "code",
      "metadata": {
        "id": "c5FQQOYdcdlR"
      },
      "source": [
        "def getStr(s):\n",
        "  s=s[:1] + s[0] + s[1:]# Transform the string \n",
        "  s=s[:1] + s[0] + s[1:]\n",
        "  s=s[:3] + s[3] + s[3:]\n",
        "  s=s[:3] + s[3] + s[3:]\n",
        "  s=s[:6] + s[6] + s[6:]\n",
        "  s=s[:6] + s[6] + s[6:]\n",
        "  # Update the length of string\n",
        "  strlen = len(s)\n",
        "  return [s, strlen]"
      ],
      "execution_count": 7,
      "outputs": []
    },
    {
      "cell_type": "code",
      "metadata": {
        "colab": {
          "base_uri": "https://localhost:8080/"
        },
        "id": "dNcR3gcgdH5j",
        "outputId": "8c2e2bd9-5a19-419c-9ce1-8cc6966acd79"
      },
      "source": [
        "print(getStr(\"abc\"))\n",
        "print(getStr(\"xyz\"))"
      ],
      "execution_count": 8,
      "outputs": [
        {
          "output_type": "stream",
          "name": "stdout",
          "text": [
            "['aaabbbccc', 9]\n",
            "['xxxyyyzzz', 9]\n"
          ]
        }
      ]
    },
    {
      "cell_type": "markdown",
      "metadata": {
        "id": "PPSbjJqRRPzw"
      },
      "source": [
        "# Challenge 5: Find Index of a Specific Value in a String\n",
        "## Problem Statement\n",
        "Given a string, use a findOccurence(s) function that allows you to find the first occurrences of \"b\" and \"ccc\"​ in the string.\n",
        "\n",
        "###Input\n",
        "A string\n",
        "\n",
        "### Output\n",
        "The first occurrence of “b” and “ccc” in the string\n",
        "\n",
        "### Sample Input\n",
        "```\n",
        "aaabbbccc\n",
        "```\n",
        "### Sample Output\n",
        "```\n",
        "[3, 6]\n",
        "```"
      ]
    },
    {
      "cell_type": "code",
      "metadata": {
        "id": "wSMFGbHDQJej"
      },
      "source": [
        "def findOccurence(s):\n",
        "  a = s.find('b')#find first occurrence of \"b\" in the string \n",
        "  b = s.find('ccc')#find first occurence  of \"ccc\" in the string\n",
        "  return [a, b]"
      ],
      "execution_count": 4,
      "outputs": []
    },
    {
      "cell_type": "code",
      "metadata": {
        "colab": {
          "base_uri": "https://localhost:8080/"
        },
        "id": "lyNvS7gDQ6gS",
        "outputId": "9599e89f-d971-458a-e7b9-31b2ba92d5c6"
      },
      "source": [
        "a,b = findOccurence('aaabbbccc')\n",
        "print(a,b)"
      ],
      "execution_count": 3,
      "outputs": [
        {
          "output_type": "stream",
          "name": "stdout",
          "text": [
            "3 6\n"
          ]
        }
      ]
    },
    {
      "cell_type": "markdown",
      "metadata": {
        "id": "PwfZtRhBXvw2"
      },
      "source": [
        "#Challenge 6: Lowercase to Uppercase\n",
        "##Problem Statement\n",
        "Given a function changeCase(s), the task is to convert the strings from upper case to lower case.\n",
        "\n",
        "###Input\n",
        "A string in upper case\n",
        "\n",
        "###Output\n",
        "Change case of the string in lower case\n",
        "\n",
        "###Sample Input\n",
        "“AAA BBB CCC”\n",
        "###Sample Output\n",
        "“aaa bbb ccc”"
      ]
    },
    {
      "cell_type": "code",
      "metadata": {
        "id": "8-ZLseinYEvo"
      },
      "source": [
        "def changeCase(s):\n",
        "  a = s.upper()  # convert string to \"AAA BBB CCC\"\n",
        "  b = s.lower()  # convert string to \"aaa bbb ccc\"\n",
        "  return [a, b]"
      ],
      "execution_count": 5,
      "outputs": []
    },
    {
      "cell_type": "code",
      "metadata": {
        "colab": {
          "base_uri": "https://localhost:8080/"
        },
        "id": "dPsPVp8RYLFJ",
        "outputId": "39d8b057-1c6c-49e9-8b2b-ee1925c3b132"
      },
      "source": [
        "str = \"AAA bbb CCC\"\n",
        "print(changeCase(str))"
      ],
      "execution_count": 6,
      "outputs": [
        {
          "output_type": "stream",
          "name": "stdout",
          "text": [
            "['AAA BBB CCC', 'aaa bbb ccc']\n"
          ]
        }
      ]
    }
  ]
}