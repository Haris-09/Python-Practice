{
  "nbformat": 4,
  "nbformat_minor": 0,
  "metadata": {
    "colab": {
      "name": "Basic Data types.ipynb",
      "provenance": [],
      "collapsed_sections": [],
      "authorship_tag": "ABX9TyMnyGUogQDxxGv5og803vBB",
      "include_colab_link": true
    },
    "kernelspec": {
      "name": "python3",
      "display_name": "Python 3"
    },
    "language_info": {
      "name": "python"
    }
  },
  "cells": [
    {
      "cell_type": "markdown",
      "metadata": {
        "id": "view-in-github",
        "colab_type": "text"
      },
      "source": [
        "<a href=\"https://colab.research.google.com/github/Haris-09/Python-Practice/blob/main/Basic%20Data%20types.ipynb\" target=\"_parent\"><img src=\"https://colab.research.google.com/assets/colab-badge.svg\" alt=\"Open In Colab\"/></a>"
      ]
    },
    {
      "cell_type": "markdown",
      "metadata": {
        "id": "PPSbjJqRRPzw"
      },
      "source": [
        "# Challenge 5: Find Index of a Specific Value in a String\n",
        "## Problem Statement\n",
        "Given a string, use a findOccurence(s) function that allows you to find the first occurrences of \"b\" and \"ccc\"​ in the string.\n",
        "\n",
        "###Input\n",
        "A string\n",
        "\n",
        "### Output\n",
        "The first occurrence of “b” and “ccc” in the string\n",
        "\n",
        "### Sample Input\n",
        "```\n",
        "aaabbbccc\n",
        "```\n",
        "### Sample Output\n",
        "```\n",
        "[3, 6]\n",
        "```"
      ]
    },
    {
      "cell_type": "code",
      "metadata": {
        "id": "wSMFGbHDQJej"
      },
      "source": [
        "def findOccurence(s):\n",
        "  a = s.find('b')#find first occurrence of \"b\" in the string \n",
        "  b = s.find('ccc')#find first occurence  of \"ccc\" in the string\n",
        "  return [a, b]"
      ],
      "execution_count": 4,
      "outputs": []
    },
    {
      "cell_type": "code",
      "metadata": {
        "colab": {
          "base_uri": "https://localhost:8080/"
        },
        "id": "lyNvS7gDQ6gS",
        "outputId": "9599e89f-d971-458a-e7b9-31b2ba92d5c6"
      },
      "source": [
        "a,b = findOccurence('aaabbbccc')\n",
        "print(a,b)"
      ],
      "execution_count": 3,
      "outputs": [
        {
          "output_type": "stream",
          "name": "stdout",
          "text": [
            "3 6\n"
          ]
        }
      ]
    },
    {
      "cell_type": "markdown",
      "metadata": {
        "id": "PwfZtRhBXvw2"
      },
      "source": [
        "#Challenge 6: Lowercase to Uppercase\n",
        "##Problem Statement\n",
        "Given a function changeCase(s), the task is to convert the strings from upper case to lower case.\n",
        "\n",
        "###Input\n",
        "A string in upper case\n",
        "\n",
        "###Output\n",
        "Change case of the string in lower case\n",
        "\n",
        "###Sample Input\n",
        "“AAA BBB CCC”\n",
        "###Sample Output\n",
        "“aaa bbb ccc”"
      ]
    },
    {
      "cell_type": "code",
      "metadata": {
        "id": "8-ZLseinYEvo"
      },
      "source": [
        "def changeCase(s):\n",
        "  a = s.upper()  # convert string to \"AAA BBB CCC\"\n",
        "  b = s.lower()  # convert string to \"aaa bbb ccc\"\n",
        "  return [a, b]"
      ],
      "execution_count": 5,
      "outputs": []
    },
    {
      "cell_type": "code",
      "metadata": {
        "colab": {
          "base_uri": "https://localhost:8080/"
        },
        "id": "dPsPVp8RYLFJ",
        "outputId": "39d8b057-1c6c-49e9-8b2b-ee1925c3b132"
      },
      "source": [
        "str = \"AAA bbb CCC\"\n",
        "print(changeCase(str))"
      ],
      "execution_count": 6,
      "outputs": [
        {
          "output_type": "stream",
          "name": "stdout",
          "text": [
            "['AAA BBB CCC', 'aaa bbb ccc']\n"
          ]
        }
      ]
    },
    {
      "cell_type": "code",
      "metadata": {
        "id": "CEABPfgPYO90"
      },
      "source": [
        ""
      ],
      "execution_count": null,
      "outputs": []
    }
  ]
}