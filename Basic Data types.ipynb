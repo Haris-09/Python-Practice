{
  "nbformat": 4,
  "nbformat_minor": 0,
  "metadata": {
    "colab": {
      "name": "Basic Data types.ipynb",
      "provenance": [],
      "collapsed_sections": [],
      "authorship_tag": "ABX9TyMUlUfJAukgt0r42dllpoaY",
      "include_colab_link": true
    },
    "kernelspec": {
      "name": "python3",
      "display_name": "Python 3"
    },
    "language_info": {
      "name": "python"
    }
  },
  "cells": [
    {
      "cell_type": "markdown",
      "metadata": {
        "id": "view-in-github",
        "colab_type": "text"
      },
      "source": [
        "<a href=\"https://colab.research.google.com/github/Haris-09/Python-Practice/blob/main/Basic%20Data%20types.ipynb\" target=\"_parent\"><img src=\"https://colab.research.google.com/assets/colab-badge.svg\" alt=\"Open In Colab\"/></a>"
      ]
    },
    {
      "cell_type": "markdown",
      "metadata": {
        "id": "PPSbjJqRRPzw"
      },
      "source": [
        "# Challenge 5: Find Index of a Specific Value in a String\n",
        "## Problem Statement\n",
        "Given a string, use a findOccurence(s) function that allows you to find the first occurrences of \"b\" and \"ccc\"​ in the string.\n",
        "\n",
        "###Input\n",
        "A string\n",
        "\n",
        "### Output\n",
        "The first occurrence of “b” and “ccc” in the string\n",
        "\n",
        "### Sample Input\n",
        "```\n",
        "aaabbbccc\n",
        "```\n",
        "### Sample Output\n",
        "```\n",
        "[3, 6]\n",
        "```"
      ]
    },
    {
      "cell_type": "code",
      "metadata": {
        "id": "wSMFGbHDQJej"
      },
      "source": [
        "def findOccurence(s):\n",
        "  a = s.find('b')#find first occurrence of \"b\" in the string \n",
        "  b = s.find('ccc')#find first occurence  of \"ccc\" in the string\n",
        "  return [a, b]"
      ],
      "execution_count": 4,
      "outputs": []
    },
    {
      "cell_type": "code",
      "metadata": {
        "colab": {
          "base_uri": "https://localhost:8080/"
        },
        "id": "lyNvS7gDQ6gS",
        "outputId": "9599e89f-d971-458a-e7b9-31b2ba92d5c6"
      },
      "source": [
        "a,b = findOccurence('aaabbbccc')\n",
        "print(a,b)"
      ],
      "execution_count": 3,
      "outputs": [
        {
          "output_type": "stream",
          "name": "stdout",
          "text": [
            "3 6\n"
          ]
        }
      ]
    }
  ]
}